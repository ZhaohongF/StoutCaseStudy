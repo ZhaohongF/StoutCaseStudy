{
 "cells": [
  {
   "cell_type": "code",
   "execution_count": 1,
   "id": "b15a75d6",
   "metadata": {},
   "outputs": [],
   "source": [
    "import numpy as np\n",
    "import pandas as pd"
   ]
  },
  {
   "cell_type": "code",
   "execution_count": 2,
   "id": "d385d2ee",
   "metadata": {},
   "outputs": [],
   "source": [
    "data = pd.read_csv('/Users/fengzhaohong/Desktop/casestudy.csv')"
   ]
  },
  {
   "cell_type": "code",
   "execution_count": 3,
   "id": "877c5d2d",
   "metadata": {},
   "outputs": [
    {
     "data": {
      "text/html": [
       "<div>\n",
       "<style scoped>\n",
       "    .dataframe tbody tr th:only-of-type {\n",
       "        vertical-align: middle;\n",
       "    }\n",
       "\n",
       "    .dataframe tbody tr th {\n",
       "        vertical-align: top;\n",
       "    }\n",
       "\n",
       "    .dataframe thead th {\n",
       "        text-align: right;\n",
       "    }\n",
       "</style>\n",
       "<table border=\"1\" class=\"dataframe\">\n",
       "  <thead>\n",
       "    <tr style=\"text-align: right;\">\n",
       "      <th></th>\n",
       "      <th>Unnamed: 0</th>\n",
       "      <th>customer_email</th>\n",
       "      <th>net_revenue</th>\n",
       "      <th>year</th>\n",
       "    </tr>\n",
       "  </thead>\n",
       "  <tbody>\n",
       "    <tr>\n",
       "      <th>0</th>\n",
       "      <td>0</td>\n",
       "      <td>nhknapwsbx@gmail.com</td>\n",
       "      <td>249.92</td>\n",
       "      <td>2015</td>\n",
       "    </tr>\n",
       "    <tr>\n",
       "      <th>1</th>\n",
       "      <td>1</td>\n",
       "      <td>joiuzbvcpn@gmail.com</td>\n",
       "      <td>87.61</td>\n",
       "      <td>2015</td>\n",
       "    </tr>\n",
       "    <tr>\n",
       "      <th>2</th>\n",
       "      <td>2</td>\n",
       "      <td>ukkjctepxt@gmail.com</td>\n",
       "      <td>168.38</td>\n",
       "      <td>2015</td>\n",
       "    </tr>\n",
       "    <tr>\n",
       "      <th>3</th>\n",
       "      <td>3</td>\n",
       "      <td>gykatilzrt@gmail.com</td>\n",
       "      <td>62.40</td>\n",
       "      <td>2015</td>\n",
       "    </tr>\n",
       "    <tr>\n",
       "      <th>4</th>\n",
       "      <td>4</td>\n",
       "      <td>mmsgsrtxah@gmail.com</td>\n",
       "      <td>43.08</td>\n",
       "      <td>2015</td>\n",
       "    </tr>\n",
       "  </tbody>\n",
       "</table>\n",
       "</div>"
      ],
      "text/plain": [
       "   Unnamed: 0         customer_email  net_revenue  year\n",
       "0           0   nhknapwsbx@gmail.com       249.92  2015\n",
       "1           1   joiuzbvcpn@gmail.com        87.61  2015\n",
       "2           2   ukkjctepxt@gmail.com       168.38  2015\n",
       "3           3   gykatilzrt@gmail.com        62.40  2015\n",
       "4           4   mmsgsrtxah@gmail.com        43.08  2015"
      ]
     },
     "execution_count": 3,
     "metadata": {},
     "output_type": "execute_result"
    }
   ],
   "source": [
    "data.head()"
   ]
  },
  {
   "cell_type": "code",
   "execution_count": 4,
   "id": "cf2178f1",
   "metadata": {},
   "outputs": [],
   "source": [
    "data = data.iloc[:,1:].copy()"
   ]
  },
  {
   "cell_type": "code",
   "execution_count": 5,
   "id": "50fd4b76",
   "metadata": {},
   "outputs": [
    {
     "data": {
      "text/html": [
       "<div>\n",
       "<style scoped>\n",
       "    .dataframe tbody tr th:only-of-type {\n",
       "        vertical-align: middle;\n",
       "    }\n",
       "\n",
       "    .dataframe tbody tr th {\n",
       "        vertical-align: top;\n",
       "    }\n",
       "\n",
       "    .dataframe thead th {\n",
       "        text-align: right;\n",
       "    }\n",
       "</style>\n",
       "<table border=\"1\" class=\"dataframe\">\n",
       "  <thead>\n",
       "    <tr style=\"text-align: right;\">\n",
       "      <th></th>\n",
       "      <th>customer_email</th>\n",
       "      <th>net_revenue</th>\n",
       "      <th>year</th>\n",
       "    </tr>\n",
       "  </thead>\n",
       "  <tbody>\n",
       "    <tr>\n",
       "      <th>0</th>\n",
       "      <td>nhknapwsbx@gmail.com</td>\n",
       "      <td>249.92</td>\n",
       "      <td>2015</td>\n",
       "    </tr>\n",
       "    <tr>\n",
       "      <th>1</th>\n",
       "      <td>joiuzbvcpn@gmail.com</td>\n",
       "      <td>87.61</td>\n",
       "      <td>2015</td>\n",
       "    </tr>\n",
       "    <tr>\n",
       "      <th>2</th>\n",
       "      <td>ukkjctepxt@gmail.com</td>\n",
       "      <td>168.38</td>\n",
       "      <td>2015</td>\n",
       "    </tr>\n",
       "    <tr>\n",
       "      <th>3</th>\n",
       "      <td>gykatilzrt@gmail.com</td>\n",
       "      <td>62.40</td>\n",
       "      <td>2015</td>\n",
       "    </tr>\n",
       "    <tr>\n",
       "      <th>4</th>\n",
       "      <td>mmsgsrtxah@gmail.com</td>\n",
       "      <td>43.08</td>\n",
       "      <td>2015</td>\n",
       "    </tr>\n",
       "    <tr>\n",
       "      <th>...</th>\n",
       "      <td>...</td>\n",
       "      <td>...</td>\n",
       "      <td>...</td>\n",
       "    </tr>\n",
       "    <tr>\n",
       "      <th>685922</th>\n",
       "      <td>qzqttwiftu@gmail.com</td>\n",
       "      <td>184.58</td>\n",
       "      <td>2017</td>\n",
       "    </tr>\n",
       "    <tr>\n",
       "      <th>685923</th>\n",
       "      <td>pjodiifjop@gmail.com</td>\n",
       "      <td>133.03</td>\n",
       "      <td>2017</td>\n",
       "    </tr>\n",
       "    <tr>\n",
       "      <th>685924</th>\n",
       "      <td>appaplmgko@gmail.com</td>\n",
       "      <td>200.98</td>\n",
       "      <td>2017</td>\n",
       "    </tr>\n",
       "    <tr>\n",
       "      <th>685925</th>\n",
       "      <td>wvkpmwsgck@gmail.com</td>\n",
       "      <td>235.35</td>\n",
       "      <td>2017</td>\n",
       "    </tr>\n",
       "    <tr>\n",
       "      <th>685926</th>\n",
       "      <td>aregboumbw@gmail.com</td>\n",
       "      <td>208.43</td>\n",
       "      <td>2017</td>\n",
       "    </tr>\n",
       "  </tbody>\n",
       "</table>\n",
       "<p>685927 rows × 3 columns</p>\n",
       "</div>"
      ],
      "text/plain": [
       "               customer_email  net_revenue  year\n",
       "0        nhknapwsbx@gmail.com       249.92  2015\n",
       "1        joiuzbvcpn@gmail.com        87.61  2015\n",
       "2        ukkjctepxt@gmail.com       168.38  2015\n",
       "3        gykatilzrt@gmail.com        62.40  2015\n",
       "4        mmsgsrtxah@gmail.com        43.08  2015\n",
       "...                       ...          ...   ...\n",
       "685922   qzqttwiftu@gmail.com       184.58  2017\n",
       "685923   pjodiifjop@gmail.com       133.03  2017\n",
       "685924   appaplmgko@gmail.com       200.98  2017\n",
       "685925   wvkpmwsgck@gmail.com       235.35  2017\n",
       "685926   aregboumbw@gmail.com       208.43  2017\n",
       "\n",
       "[685927 rows x 3 columns]"
      ]
     },
     "execution_count": 5,
     "metadata": {},
     "output_type": "execute_result"
    }
   ],
   "source": [
    "data"
   ]
  },
  {
   "cell_type": "markdown",
   "id": "27a70965",
   "metadata": {},
   "source": [
    "Inspect Nan Value"
   ]
  },
  {
   "cell_type": "code",
   "execution_count": 6,
   "id": "3fde1096",
   "metadata": {},
   "outputs": [
    {
     "data": {
      "text/plain": [
       "customer_email    0\n",
       "net_revenue       0\n",
       "year              0\n",
       "dtype: int64"
      ]
     },
     "execution_count": 6,
     "metadata": {},
     "output_type": "execute_result"
    }
   ],
   "source": [
    "data.isnull().sum()"
   ]
  },
  {
   "cell_type": "markdown",
   "id": "2c10262a",
   "metadata": {},
   "source": [
    "1. Calculate Total Revenue for the Current Year"
   ]
  },
  {
   "cell_type": "code",
   "execution_count": 7,
   "id": "4bf1cdba",
   "metadata": {},
   "outputs": [],
   "source": [
    "Total_revenue_current_year=data.groupby('year')['net_revenue'].sum()"
   ]
  },
  {
   "cell_type": "code",
   "execution_count": 8,
   "id": "5c94f7d8",
   "metadata": {},
   "outputs": [
    {
     "name": "stdout",
     "output_type": "stream",
     "text": [
      "Total Revenue for the Current Year year\n",
      "2015    29036749.19\n",
      "2016    25730943.59\n",
      "2017    31417495.03\n",
      "Name: net_revenue, dtype: float64\n"
     ]
    }
   ],
   "source": [
    "print('Total Revenue for the Current Year', Total_revenue_current_year)"
   ]
  },
  {
   "cell_type": "markdown",
   "id": "a337677a",
   "metadata": {},
   "source": [
    "When assuming current year is 2017, the Total Revenue for the Current Year is 31417495.03.\n",
    "\n",
    "When assuming current year is 2016, the Total Revenue for the Current Year is 25730943.59.\n",
    "\n",
    "When assuming current year is 2015, the Total Revenue for the Current Year is 29036749.19."
   ]
  },
  {
   "cell_type": "markdown",
   "id": "395b37a6",
   "metadata": {},
   "source": [
    "2. Calculate New Customer Revenue "
   ]
  },
  {
   "cell_type": "code",
   "execution_count": 13,
   "id": "d294fa5a",
   "metadata": {},
   "outputs": [],
   "source": [
    "from sqlalchemy import create_engine\n",
    "engine = create_engine('sqlite://', echo=False)"
   ]
  },
  {
   "cell_type": "code",
   "execution_count": 14,
   "id": "3bcf0a17",
   "metadata": {},
   "outputs": [],
   "source": [
    "df =data.copy()"
   ]
  },
  {
   "cell_type": "code",
   "execution_count": 15,
   "id": "f56f129c",
   "metadata": {},
   "outputs": [],
   "source": [
    "df.to_sql('data1', con=engine)"
   ]
  },
  {
   "cell_type": "code",
   "execution_count": 18,
   "id": "6f1e6a0c",
   "metadata": {},
   "outputs": [
    {
     "data": {
      "text/plain": [
       "[(2015, 29036749.18999953),\n",
       " (2016, 18245491.010000203),\n",
       " (2017, 28676607.64000002)]"
      ]
     },
     "execution_count": 18,
     "metadata": {},
     "output_type": "execute_result"
    }
   ],
   "source": [
    "engine.execute('''Select C.minyear, sum(C.net_revenue) \n",
    "From (Select A.customer_email, A.net_revenue, B.minyear \n",
    "From data1 as A Inner Join (SELECT customer_email, \n",
    "min(year) as \"minyear\"\n",
    "FROM data1 Group by customer_email) as B \n",
    "On A.customer_email=B.customer_email AND A.year=B.minyear) as C\n",
    "Group by C.minyear''').fetchall()"
   ]
  },
  {
   "cell_type": "markdown",
   "id": "bb49e201",
   "metadata": {},
   "source": [
    "Therefore, New Customer Revenue for 2015 is 29036749.19, for 2016 is 18245491.01, for 2017 is 28676607.64"
   ]
  },
  {
   "cell_type": "markdown",
   "id": "f65e1050",
   "metadata": {},
   "source": [
    "3. Existing Customer Growth \n",
    "\n",
    "1st calculate existing customer growth in 2016 \n",
    "\n",
    "2nd calculate existing customer growth in 2017"
   ]
  },
  {
   "cell_type": "code",
   "execution_count": 68,
   "id": "5ae13f38",
   "metadata": {},
   "outputs": [
    {
     "data": {
      "text/plain": [
       "[(7485452.5800000075,)]"
      ]
     },
     "execution_count": 68,
     "metadata": {},
     "output_type": "execute_result"
    }
   ],
   "source": [
    "engine.execute('''Select sum(net_revenue) \n",
    "From data1\n",
    "Where year = 2016 And customer_email In (Select distinct customer_email \n",
    "From data1\n",
    "Where year = 2015)''').fetchall()"
   ]
  },
  {
   "cell_type": "markdown",
   "id": "5c25f94f",
   "metadata": {},
   "source": [
    "First calculate the sum of 2016 net revenue of the customers who made purchases in 2015."
   ]
  },
  {
   "cell_type": "code",
   "execution_count": 69,
   "id": "7b7e9037",
   "metadata": {},
   "outputs": [
    {
     "data": {
      "text/plain": [
       "[(7465117.120000009,)]"
      ]
     },
     "execution_count": 69,
     "metadata": {},
     "output_type": "execute_result"
    }
   ],
   "source": [
    "engine.execute('''Select sum(net_revenue)\n",
    "From data1 \n",
    "Where year = 2015 And customer_email In (Select a.customer_email \n",
    "From data1 a\n",
    "Inner Join (Select customer_email From data1  Where year = 2016)as b\n",
    "On a.customer_email=b.customer_email\n",
    "Where a.year = 2015) ''').fetchall()"
   ]
  },
  {
   "cell_type": "markdown",
   "id": "7500fc9f",
   "metadata": {},
   "source": [
    "Second calculate the sum of 2015 net revenue of the customers who also made purchases in 2016."
   ]
  },
  {
   "cell_type": "code",
   "execution_count": 71,
   "id": "3b6eac3b",
   "metadata": {},
   "outputs": [
    {
     "data": {
      "text/plain": [
       "20335.4599999981"
      ]
     },
     "execution_count": 71,
     "metadata": {},
     "output_type": "execute_result"
    }
   ],
   "source": [
    "7485452.5800000075 - 7465117.120000009"
   ]
  },
  {
   "cell_type": "markdown",
   "id": "934a460c",
   "metadata": {},
   "source": [
    "Using the first result minus second result will attain the existing customer growth in 2016."
   ]
  },
  {
   "cell_type": "code",
   "execution_count": 82,
   "id": "28a14cd9",
   "metadata": {},
   "outputs": [
    {
     "data": {
      "text/plain": [
       "[(2740887.3900000127,)]"
      ]
     },
     "execution_count": 82,
     "metadata": {},
     "output_type": "execute_result"
    }
   ],
   "source": [
    "engine.execute('''Select sum(net_revenue)\n",
    "From data1 \n",
    "Where year = 2017 And customer_email In (Select a.customer_email \n",
    "From data1 a\n",
    "Where year = 2016 Or year = 2015) ''').fetchall()"
   ]
  },
  {
   "cell_type": "markdown",
   "id": "1a4e6a76",
   "metadata": {},
   "source": [
    "First calcutate the sum of 2017 net reveune of customers who made purchases in 2016 or 2015."
   ]
  },
  {
   "cell_type": "code",
   "execution_count": 80,
   "id": "6d546e2d",
   "metadata": {},
   "outputs": [
    {
     "data": {
      "text/plain": [
       "[(2620648.6499999906,)]"
      ]
     },
     "execution_count": 80,
     "metadata": {},
     "output_type": "execute_result"
    }
   ],
   "source": [
    "engine.execute('''Select sum(net_revenue)\n",
    "From data1 \n",
    "Where year = 2016 And customer_email In (Select a.customer_email \n",
    "From data1 a\n",
    "Inner Join (Select customer_email From data1  Where year = 2017)as b\n",
    "On a.customer_email=b.customer_email\n",
    "Where a.year = 2016) ''').fetchall()"
   ]
  },
  {
   "cell_type": "markdown",
   "id": "0b92b650",
   "metadata": {},
   "source": [
    "Second calculte the sum of 2016 net revenue of customers who made purchases in 2017."
   ]
  },
  {
   "cell_type": "code",
   "execution_count": 83,
   "id": "8024c291",
   "metadata": {},
   "outputs": [
    {
     "data": {
      "text/plain": [
       "120238.74000002118"
      ]
     },
     "execution_count": 83,
     "metadata": {},
     "output_type": "execute_result"
    }
   ],
   "source": [
    "2740887.390000012 - 2620648.6499999906"
   ]
  },
  {
   "cell_type": "markdown",
   "id": "1a7c05fa",
   "metadata": {},
   "source": [
    "The gap between these two result will be the existing customer growth in 2017."
   ]
  },
  {
   "cell_type": "markdown",
   "id": "a41f8044",
   "metadata": {},
   "source": [
    "The Existing Customer Growth in 2016 is 20335.46.\n",
    "\n",
    "The Existing Customer Growth is 2017 is 120238.74."
   ]
  },
  {
   "cell_type": "markdown",
   "id": "c9b8ab45",
   "metadata": {},
   "source": [
    "4. Revenue lost from attrition"
   ]
  },
  {
   "cell_type": "code",
   "execution_count": 17,
   "id": "48eceb49",
   "metadata": {},
   "outputs": [
    {
     "data": {
      "text/plain": [
       "[(7485452.5800000075,)]"
      ]
     },
     "execution_count": 17,
     "metadata": {},
     "output_type": "execute_result"
    }
   ],
   "source": [
    "engine.execute('''Select sum(A.net_revenue)\n",
    "From data1 as A \n",
    "Where A.year = 2016 And A.customer_email In (Select customer_email \n",
    "From data1 \n",
    "Where year = 2015)''').fetchall()"
   ]
  },
  {
   "cell_type": "markdown",
   "id": "26cbe530",
   "metadata": {},
   "source": [
    "Calculate the sum of net revenue (in 2016) of the customers who had made purchased in 2015.  "
   ]
  },
  {
   "cell_type": "code",
   "execution_count": 14,
   "id": "5c7d604a",
   "metadata": {},
   "outputs": [
    {
     "data": {
      "text/plain": [
       "[(29036749.18999953,)]"
      ]
     },
     "execution_count": 14,
     "metadata": {},
     "output_type": "execute_result"
    }
   ],
   "source": [
    "engine.execute('''Select sum(A.net_revenue)\n",
    "From data1 as A \n",
    "Where A.year = 2015 ''').fetchall()"
   ]
  },
  {
   "cell_type": "markdown",
   "id": "7a51e4a5",
   "metadata": {},
   "source": [
    "Calculate the original sum of net revenue of the customers in 2015."
   ]
  },
  {
   "cell_type": "code",
   "execution_count": 96,
   "id": "d37cf24b",
   "metadata": {},
   "outputs": [
    {
     "data": {
      "text/plain": [
       "-21551296.609999523"
      ]
     },
     "execution_count": 96,
     "metadata": {},
     "output_type": "execute_result"
    }
   ],
   "source": [
    "7485452.5800000075-29036749.18999953"
   ]
  },
  {
   "cell_type": "markdown",
   "id": "002b360f",
   "metadata": {},
   "source": [
    "Using the first calculation result minus the second result would be the revenue lost from attrition in 2016. "
   ]
  },
  {
   "cell_type": "code",
   "execution_count": 13,
   "id": "01a97ff5",
   "metadata": {},
   "outputs": [
    {
     "data": {
      "text/plain": [
       "[(2641259.990000008,)]"
      ]
     },
     "execution_count": 13,
     "metadata": {},
     "output_type": "execute_result"
    }
   ],
   "source": [
    "engine.execute('''Select sum(A.net_revenue)\n",
    "From data1 as A \n",
    "Where A.year = 2017 And A.customer_email In (Select distinct customer_email \n",
    "From data1 \n",
    "Where year = 2016)''').fetchall()"
   ]
  },
  {
   "cell_type": "markdown",
   "id": "411ff92c",
   "metadata": {},
   "source": [
    "First calculate the sum of net revenue (in 2017) of the customers who had made purchases in 2016."
   ]
  },
  {
   "cell_type": "code",
   "execution_count": 14,
   "id": "d837c6bc",
   "metadata": {},
   "outputs": [
    {
     "data": {
      "text/plain": [
       "[(25730943.58999988,)]"
      ]
     },
     "execution_count": 14,
     "metadata": {},
     "output_type": "execute_result"
    }
   ],
   "source": [
    "engine.execute('''Select sum(net_revenue)\n",
    "From data1  \n",
    "Where year = 2016''').fetchall()"
   ]
  },
  {
   "cell_type": "markdown",
   "id": "be393c7f",
   "metadata": {},
   "source": [
    "Second calculate the sum of net revenue of customers who had made purchases in 2016."
   ]
  },
  {
   "cell_type": "code",
   "execution_count": 15,
   "id": "5885d877",
   "metadata": {},
   "outputs": [
    {
     "data": {
      "text/plain": [
       "-23089683.59999987"
      ]
     },
     "execution_count": 15,
     "metadata": {},
     "output_type": "execute_result"
    }
   ],
   "source": [
    "2641259.990000008-25730943.58999988"
   ]
  },
  {
   "cell_type": "markdown",
   "id": "eb0c9eb5",
   "metadata": {},
   "source": [
    "Using the first calculation result minus the second one will be the revenue lost from attrition in 2017."
   ]
  },
  {
   "cell_type": "markdown",
   "id": "061f35a9",
   "metadata": {},
   "source": [
    "For 2016 Revenue lost from attrition is 21551296.61\n",
    "\n",
    "For 2017 Revenue lost from attrition is 23089683.60"
   ]
  },
  {
   "cell_type": "markdown",
   "id": "a553d50d",
   "metadata": {},
   "source": [
    "5 & 6 Existing Customer Revenue Current Year and Existing Customer Revenue Prior Year"
   ]
  },
  {
   "cell_type": "code",
   "execution_count": 16,
   "id": "83047e97",
   "metadata": {},
   "outputs": [
    {
     "data": {
      "text/plain": [
       "[(7485452.5800000075,)]"
      ]
     },
     "execution_count": 16,
     "metadata": {},
     "output_type": "execute_result"
    }
   ],
   "source": [
    "engine.execute('''Select sum(net_revenue) \n",
    "From data1\n",
    "Where year = 2016 And customer_email In (Select distinct customer_email \n",
    "From data1\n",
    "Where year = 2015)''').fetchall()"
   ]
  },
  {
   "cell_type": "code",
   "execution_count": 17,
   "id": "411646c3",
   "metadata": {},
   "outputs": [
    {
     "data": {
      "text/plain": [
       "[(7465117.120000009,)]"
      ]
     },
     "execution_count": 17,
     "metadata": {},
     "output_type": "execute_result"
    }
   ],
   "source": [
    "engine.execute('''Select sum(net_revenue)\n",
    "From data1 \n",
    "Where year = 2015 And customer_email In (Select a.customer_email \n",
    "From data1 a\n",
    "Inner Join (Select customer_email From data1  Where year = 2016)as b\n",
    "On a.customer_email=b.customer_email\n",
    "Where a.year = 2015) ''').fetchall()"
   ]
  },
  {
   "cell_type": "code",
   "execution_count": 18,
   "id": "6d7ce26b",
   "metadata": {},
   "outputs": [
    {
     "data": {
      "text/plain": [
       "[(2740887.3900000127,)]"
      ]
     },
     "execution_count": 18,
     "metadata": {},
     "output_type": "execute_result"
    }
   ],
   "source": [
    "engine.execute('''Select sum(net_revenue)\n",
    "From data1\n",
    "Where year = 2017 And customer_email In (Select distinct customer_email\n",
    "From data1\n",
    "Where year = 2016 Or year = 2015)''').fetchall()"
   ]
  },
  {
   "cell_type": "code",
   "execution_count": 19,
   "id": "48b2eb66",
   "metadata": {},
   "outputs": [
    {
     "data": {
      "text/plain": [
       "[(2620648.6499999906,)]"
      ]
     },
     "execution_count": 19,
     "metadata": {},
     "output_type": "execute_result"
    }
   ],
   "source": [
    "engine.execute('''Select sum(net_revenue)\n",
    "From data1 \n",
    "Where year = 2016 And customer_email In (Select a.customer_email \n",
    "From data1 a\n",
    "Inner Join (Select customer_email From data1  Where year = 2017)as b\n",
    "On a.customer_email=b.customer_email\n",
    "Where a.year = 2016) ''').fetchall()"
   ]
  },
  {
   "cell_type": "markdown",
   "id": "bfa290e3",
   "metadata": {},
   "source": [
    "When assuming 2015 is the current year, since it is the first year of the data, there is no Existing Customer for Revenue Current Year or Existing Customer Revenue for Prior Year.\n",
    "\n",
    "When assuming 2016 is the current year, the Existing Customer Revenue for Current Year is 7485452.58, the Existing Customer Revenue for Prior Year is 7465117.12 \n",
    "\n",
    "When assuming 2017 is the current year, the Existing Customer Revenue for Current Year is 2740887.39, the Existing Customer Revenue for Prior Year is 2620648.65."
   ]
  },
  {
   "cell_type": "markdown",
   "id": "3b6ed5c2",
   "metadata": {},
   "source": [
    "7 & 8 . Total Customers Current Year and Total Customers Previous Year"
   ]
  },
  {
   "cell_type": "code",
   "execution_count": 21,
   "id": "82d11af8",
   "metadata": {},
   "outputs": [
    {
     "data": {
      "text/plain": [
       "[(2015, 231294), (2016, 204646), (2017, 249987)]"
      ]
     },
     "execution_count": 21,
     "metadata": {},
     "output_type": "execute_result"
    }
   ],
   "source": [
    "engine.execute('''Select year, \n",
    "count(distinct customer_email)\n",
    "From data1 \n",
    "Group by year''').fetchall()"
   ]
  },
  {
   "cell_type": "code",
   "execution_count": 73,
   "id": "6af64472",
   "metadata": {},
   "outputs": [
    {
     "data": {
      "text/plain": [
       "[(376356,)]"
      ]
     },
     "execution_count": 73,
     "metadata": {},
     "output_type": "execute_result"
    }
   ],
   "source": [
    "engine.execute('''Select \n",
    "count(distinct customer_email)\n",
    "From data1 \n",
    "Where year = 2016 Or year =2015''').fetchall()"
   ]
  },
  {
   "cell_type": "markdown",
   "id": "d3c6f5ad",
   "metadata": {},
   "source": [
    "When assuming current year is 2017, there are 249987 customers in current year. There are 204646 customers in 2016, and 376356 customers totally for pervious years.\n",
    "\n",
    "When assuming current year is 2016, there are 204646 customers in current year. There are 231294 customers for pervious year.\n",
    "\n",
    "When assuming current year is 2015, there are 231294 customers in current year. There are 0 customer for pervious year."
   ]
  },
  {
   "cell_type": "markdown",
   "id": "53f6e7c3",
   "metadata": {},
   "source": [
    "9. New Customers"
   ]
  },
  {
   "cell_type": "code",
   "execution_count": 32,
   "id": "1f295b58",
   "metadata": {},
   "outputs": [
    {
     "data": {
      "text/plain": [
       "[(231294,)]"
      ]
     },
     "execution_count": 32,
     "metadata": {},
     "output_type": "execute_result"
    }
   ],
   "source": [
    "engine.execute('''Select count(distinct customer_email)\n",
    "From data1 \n",
    "Where year = 2015 ''').fetchall()"
   ]
  },
  {
   "cell_type": "code",
   "execution_count": 31,
   "id": "6d6f7586",
   "metadata": {},
   "outputs": [
    {
     "data": {
      "text/plain": [
       "[(145062,)]"
      ]
     },
     "execution_count": 31,
     "metadata": {},
     "output_type": "execute_result"
    }
   ],
   "source": [
    "engine.execute('''Select count(distinct customer_email)\n",
    "From data1 \n",
    "Where year = 2016 And customer_email Not In (Select distinct customer_email \n",
    "From data1\n",
    "Where year = 2015)''').fetchall()"
   ]
  },
  {
   "cell_type": "code",
   "execution_count": 93,
   "id": "93578add",
   "metadata": {},
   "outputs": [
    {
     "data": {
      "text/plain": [
       "[(228262,)]"
      ]
     },
     "execution_count": 93,
     "metadata": {},
     "output_type": "execute_result"
    }
   ],
   "source": [
    "engine.execute('''Select count(distinct customer_email)\n",
    "From data1 \n",
    "Where year = 2017 And customer_email Not In (Select distinct customer_email \n",
    "From data1\n",
    "Where year = 2016 Or year = 2015)''').fetchall()"
   ]
  },
  {
   "cell_type": "markdown",
   "id": "d4a58676",
   "metadata": {},
   "source": [
    "New Customers for 2017 is 228262\n",
    "\n",
    "New Customers for 2016 is 145062\n",
    "\n",
    "New Customers for 2015 is 231294"
   ]
  },
  {
   "cell_type": "markdown",
   "id": "5ab4f1c1",
   "metadata": {},
   "source": [
    "10.Lost Customers"
   ]
  },
  {
   "cell_type": "code",
   "execution_count": 42,
   "id": "db4e926e",
   "metadata": {},
   "outputs": [
    {
     "data": {
      "text/plain": [
       "[(171710,)]"
      ]
     },
     "execution_count": 42,
     "metadata": {},
     "output_type": "execute_result"
    }
   ],
   "source": [
    "engine.execute('''Select count(distinct customer_email)\n",
    "From data1 \n",
    "Where year = 2015 And customer_email Not In (Select distinct customer_email \n",
    "From data1\n",
    "Where year = 2016 )''').fetchall()"
   ]
  },
  {
   "cell_type": "code",
   "execution_count": 41,
   "id": "6ae43cd9",
   "metadata": {},
   "outputs": [
    {
     "data": {
      "text/plain": [
       "[(183687,)]"
      ]
     },
     "execution_count": 41,
     "metadata": {},
     "output_type": "execute_result"
    }
   ],
   "source": [
    "engine.execute('''Select count(distinct customer_email)\n",
    "From data1\n",
    "Where (year = 2016) And customer_email Not In(Select distinct customer_email\n",
    "From data1\n",
    "Where year = 2017) ''').fetchall()"
   ]
  },
  {
   "cell_type": "code",
   "execution_count": 46,
   "id": "424c674d",
   "metadata": {},
   "outputs": [
    {
     "data": {
      "text/plain": [
       "[(354631,)]"
      ]
     },
     "execution_count": 46,
     "metadata": {},
     "output_type": "execute_result"
    }
   ],
   "source": [
    "engine.execute('''Select count(distinct customer_email)\n",
    "From data1\n",
    "Where (year = 2015 Or year = 2016) And customer_email Not In(Select distinct customer_email\n",
    "From data1\n",
    "Where year = 2017)''').fetchall()"
   ]
  },
  {
   "cell_type": "markdown",
   "id": "ab19e077",
   "metadata": {},
   "source": [
    "The lost customers for 2016 is 171710.\n",
    "\n",
    "The lost customers for 2017 is 183687.\n",
    "\n",
    "The total lost customer for 2017 since 2015 is 354631."
   ]
  },
  {
   "cell_type": "markdown",
   "id": "f33747ae",
   "metadata": {},
   "source": [
    "Visualizations"
   ]
  },
  {
   "cell_type": "code",
   "execution_count": 19,
   "id": "b45aa7d4",
   "metadata": {},
   "outputs": [],
   "source": [
    "import matplotlib.pyplot as plt\n",
    "import seaborn as sns"
   ]
  },
  {
   "cell_type": "markdown",
   "id": "fc8ce9ec",
   "metadata": {},
   "source": [
    "Plot 1 Ratio of Existing Customer Revenue Current Year to Total Customers Current Year"
   ]
  },
  {
   "cell_type": "code",
   "execution_count": 20,
   "id": "c136b02e",
   "metadata": {},
   "outputs": [
    {
     "data": {
      "text/plain": [
       "(0.29091247873665715,)"
      ]
     },
     "execution_count": 20,
     "metadata": {},
     "output_type": "execute_result"
    }
   ],
   "source": [
    "7485452.58/25730943.59, "
   ]
  },
  {
   "cell_type": "markdown",
   "id": "4702431d",
   "metadata": {},
   "source": [
    "For 2016 ratio"
   ]
  },
  {
   "cell_type": "code",
   "execution_count": 21,
   "id": "3326bf40",
   "metadata": {},
   "outputs": [
    {
     "data": {
      "text/plain": [
       "0.08724079966855333"
      ]
     },
     "execution_count": 21,
     "metadata": {},
     "output_type": "execute_result"
    }
   ],
   "source": [
    "2740887.39/31417495.03"
   ]
  },
  {
   "cell_type": "markdown",
   "id": "67f18c92",
   "metadata": {},
   "source": [
    "For 2017 ratio"
   ]
  },
  {
   "cell_type": "code",
   "execution_count": 22,
   "id": "d67e4363",
   "metadata": {},
   "outputs": [
    {
     "data": {
      "text/plain": [
       "Text(0.5, 1.0, 'Ratio of Existing Customer Revenue Current Year to Total Customers Current Year')"
      ]
     },
     "execution_count": 22,
     "metadata": {},
     "output_type": "execute_result"
    },
    {
     "data": {
      "image/png": "[encoded data removed]",
      "text/plain": [
       "<Figure size 432x288 with 1 Axes>"
      ]
     },
     "metadata": {
      "needs_background": "light"
     },
     "output_type": "display_data"
    }
   ],
   "source": [
    "ratio = [0.29,0.09]\n",
    "year = ['2016','2017']\n",
    "plt.bar(year,ratio)\n",
    "plt.title('Ratio of Existing Customer Revenue Current Year to Total Customers Current Year')"
   ]
  },
  {
   "cell_type": "markdown",
   "id": "a7792ee0",
   "metadata": {},
   "source": [
    "As we see, the ratio decreased in 2017."
   ]
  },
  {
   "cell_type": "markdown",
   "id": "fa966e89",
   "metadata": {},
   "source": [
    "Plot 2 New customer ratio."
   ]
  },
  {
   "cell_type": "code",
   "execution_count": 24,
   "id": "29cb9cd8",
   "metadata": {},
   "outputs": [
    {
     "data": {
      "text/plain": [
       "Text(0.5, 1.0, 'Ratio of New Customers Each Year')"
      ]
     },
     "execution_count": 24,
     "metadata": {},
     "output_type": "execute_result"
    },
    {
     "data": {
      "image/png": "[encoded data removed]",
      "text/plain": [
       "<Figure size 432x288 with 1 Axes>"
      ]
     },
     "metadata": {
      "needs_background": "light"
     },
     "output_type": "display_data"
    }
   ],
   "source": [
    "new_ratio_2016 = 145062/204646\n",
    "new_ratio_2017 = 228262/249987\n",
    "new_ratio = [new_ratio_2016,new_ratio_2017]\n",
    "plt.bar(year,new_ratio)\n",
    "plt.title('Ratio of New Customers Each Year')"
   ]
  },
  {
   "cell_type": "markdown",
   "id": "cba24c95",
   "metadata": {},
   "source": [
    "The new customer ratio increase in 2017."
   ]
  },
  {
   "cell_type": "markdown",
   "id": "df68511f",
   "metadata": {},
   "source": [
    "Plot 3 We can also investigate the net revenue for each customer who had purchased from 2015 all the way to 2017(loyal customer),\n",
    "discover their net revenue changes."
   ]
  },
  {
   "cell_type": "code",
   "execution_count": 27,
   "id": "d41e9d6c",
   "metadata": {},
   "outputs": [
    {
     "data": {
      "text/plain": [
       "[(764387.7299999989,)]"
      ]
     },
     "execution_count": 27,
     "metadata": {},
     "output_type": "execute_result"
    }
   ],
   "source": [
    "engine.execute('''Select sum(net_revenue)\n",
    "From data1 \n",
    "Where year = 2017 And customer_email In (Select a.customer_email \n",
    "From data1 a\n",
    "Inner Join (Select distinct customer_email from data1 Where year=2015) as b \n",
    "On a.customer_email = b.customer_email \n",
    "Where year = 2016) ''').fetchall()"
   ]
  },
  {
   "cell_type": "code",
   "execution_count": 29,
   "id": "9eb12f18",
   "metadata": {},
   "outputs": [
    {
     "data": {
      "text/plain": [
       "[(7485452.5800000075,)]"
      ]
     },
     "execution_count": 29,
     "metadata": {},
     "output_type": "execute_result"
    }
   ],
   "source": [
    "engine.execute('''Select sum(net_revenue)\n",
    "From data1 \n",
    "Where year = 2016 And customer_email In (Select distinct a.customer_email \n",
    "From data1 a\n",
    "Where a.year = 2015) ''').fetchall()"
   ]
  },
  {
   "cell_type": "code",
   "execution_count": 30,
   "id": "66fcfb00",
   "metadata": {},
   "outputs": [
    {
     "data": {
      "text/plain": [
       "[(6162,)]"
      ]
     },
     "execution_count": 30,
     "metadata": {},
     "output_type": "execute_result"
    }
   ],
   "source": [
    "engine.execute('''Select count(distinct customer_email)\n",
    "From data1 \n",
    "Where year = 2017 And customer_email In (Select a.customer_email \n",
    "From data1 a\n",
    "Inner Join (Select distinct customer_email from data1 Where year=2015) as b \n",
    "On a.customer_email = b.customer_email \n",
    "Where year = 2016) ''').fetchall()"
   ]
  },
  {
   "cell_type": "code",
   "execution_count": 31,
   "id": "55296143",
   "metadata": {},
   "outputs": [
    {
     "data": {
      "text/plain": [
       "[(59584,)]"
      ]
     },
     "execution_count": 31,
     "metadata": {},
     "output_type": "execute_result"
    }
   ],
   "source": [
    "engine.execute('''Select count(distinct customer_email)\n",
    "From data1 \n",
    "Where year = 2016 And customer_email In (Select distinct a.customer_email \n",
    "From data1 a\n",
    "Where a.year = 2015) ''').fetchall()"
   ]
  },
  {
   "cell_type": "code",
   "execution_count": 32,
   "id": "fff128eb",
   "metadata": {},
   "outputs": [
    {
     "data": {
      "text/plain": [
       "Text(0.5, 1.0, 'Per Loyal Customer Net Revenue')"
      ]
     },
     "execution_count": 32,
     "metadata": {},
     "output_type": "execute_result"
    },
    {
     "data": {
      "image/png": "[encoded data removed]",
      "text/plain": [
       "<Figure size 432x288 with 1 Axes>"
      ]
     },
     "metadata": {
      "needs_background": "light"
     },
     "output_type": "display_data"
    }
   ],
   "source": [
    "loyal_2017 = 764387.73/6162\n",
    "loyal_2016 = 7485452.58/59584\n",
    "loyal_per_revenue = [loyal_2016,loyal_2017]\n",
    "plt.bar(year,loyal_per_revenue)\n",
    "plt.title('Per Loyal Customer Net Revenue')"
   ]
  },
  {
   "cell_type": "markdown",
   "id": "e6fd43e3",
   "metadata": {},
   "source": [
    "As we see, for the \"loyal customer\", their net revenue has not changed too much for each year (which is around 120 on average). "
   ]
  }
 ],
 "metadata": {
  "kernelspec": {
   "display_name": "Python 3",
   "language": "python",
   "name": "python3"
  },
  "language_info": {
   "codemirror_mode": {
    "name": "ipython",
    "version": 3
   },
   "file_extension": ".py",
   "mimetype": "text/x-python",
   "name": "python",
   "nbconvert_exporter": "python",
   "pygments_lexer": "ipython3",
   "version": "3.8.8"
  }
 },
 "nbformat": 4,
 "nbformat_minor": 5
}
