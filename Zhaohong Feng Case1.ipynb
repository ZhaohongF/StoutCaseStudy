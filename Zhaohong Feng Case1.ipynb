{
 "cells": [
  {
   "cell_type": "code",
   "execution_count": 1,
   "id": "c56e3296",
   "metadata": {},
   "outputs": [],
   "source": [
    "import numpy as np\n",
    "import pandas as pd"
   ]
  },
  {
   "cell_type": "code",
   "execution_count": 2,
   "id": "f5fe0230",
   "metadata": {},
   "outputs": [],
   "source": [
    "data = pd.read_csv(\"/Users/fengzhaohong/Desktop/loans_full_schema.csv\")"
   ]
  },
  {
   "cell_type": "code",
   "execution_count": 3,
   "id": "8ebe1911",
   "metadata": {},
   "outputs": [
    {
     "data": {
      "text/html": [
       "<div>\n",
       "<style scoped>\n",
       "    .dataframe tbody tr th:only-of-type {\n",
       "        vertical-align: middle;\n",
       "    }\n",
       "\n",
       "    .dataframe tbody tr th {\n",
       "        vertical-align: top;\n",
       "    }\n",
       "\n",
       "    .dataframe thead th {\n",
       "        text-align: right;\n",
       "    }\n",
       "</style>\n",
       "<table border=\"1\" class=\"dataframe\">\n",
       "  <thead>\n",
       "    <tr style=\"text-align: right;\">\n",
       "      <th></th>\n",
       "      <th>emp_title</th>\n",
       "      <th>emp_length</th>\n",
       "      <th>state</th>\n",
       "      <th>homeownership</th>\n",
       "      <th>annual_income</th>\n",
       "      <th>verified_income</th>\n",
       "      <th>debt_to_income</th>\n",
       "      <th>annual_income_joint</th>\n",
       "      <th>verification_income_joint</th>\n",
       "      <th>debt_to_income_joint</th>\n",
       "      <th>...</th>\n",
       "      <th>sub_grade</th>\n",
       "      <th>issue_month</th>\n",
       "      <th>loan_status</th>\n",
       "      <th>initial_listing_status</th>\n",
       "      <th>disbursement_method</th>\n",
       "      <th>balance</th>\n",
       "      <th>paid_total</th>\n",
       "      <th>paid_principal</th>\n",
       "      <th>paid_interest</th>\n",
       "      <th>paid_late_fees</th>\n",
       "    </tr>\n",
       "  </thead>\n",
       "  <tbody>\n",
       "    <tr>\n",
       "      <th>0</th>\n",
       "      <td>global config engineer</td>\n",
       "      <td>3.0</td>\n",
       "      <td>NJ</td>\n",
       "      <td>MORTGAGE</td>\n",
       "      <td>90000.0</td>\n",
       "      <td>Verified</td>\n",
       "      <td>18.01</td>\n",
       "      <td>NaN</td>\n",
       "      <td>NaN</td>\n",
       "      <td>NaN</td>\n",
       "      <td>...</td>\n",
       "      <td>C3</td>\n",
       "      <td>Mar-2018</td>\n",
       "      <td>Current</td>\n",
       "      <td>whole</td>\n",
       "      <td>Cash</td>\n",
       "      <td>27015.86</td>\n",
       "      <td>1999.33</td>\n",
       "      <td>984.14</td>\n",
       "      <td>1015.19</td>\n",
       "      <td>0.0</td>\n",
       "    </tr>\n",
       "    <tr>\n",
       "      <th>1</th>\n",
       "      <td>warehouse office clerk</td>\n",
       "      <td>10.0</td>\n",
       "      <td>HI</td>\n",
       "      <td>RENT</td>\n",
       "      <td>40000.0</td>\n",
       "      <td>Not Verified</td>\n",
       "      <td>5.04</td>\n",
       "      <td>NaN</td>\n",
       "      <td>NaN</td>\n",
       "      <td>NaN</td>\n",
       "      <td>...</td>\n",
       "      <td>C1</td>\n",
       "      <td>Feb-2018</td>\n",
       "      <td>Current</td>\n",
       "      <td>whole</td>\n",
       "      <td>Cash</td>\n",
       "      <td>4651.37</td>\n",
       "      <td>499.12</td>\n",
       "      <td>348.63</td>\n",
       "      <td>150.49</td>\n",
       "      <td>0.0</td>\n",
       "    </tr>\n",
       "    <tr>\n",
       "      <th>2</th>\n",
       "      <td>assembly</td>\n",
       "      <td>3.0</td>\n",
       "      <td>WI</td>\n",
       "      <td>RENT</td>\n",
       "      <td>40000.0</td>\n",
       "      <td>Source Verified</td>\n",
       "      <td>21.15</td>\n",
       "      <td>NaN</td>\n",
       "      <td>NaN</td>\n",
       "      <td>NaN</td>\n",
       "      <td>...</td>\n",
       "      <td>D1</td>\n",
       "      <td>Feb-2018</td>\n",
       "      <td>Current</td>\n",
       "      <td>fractional</td>\n",
       "      <td>Cash</td>\n",
       "      <td>1824.63</td>\n",
       "      <td>281.80</td>\n",
       "      <td>175.37</td>\n",
       "      <td>106.43</td>\n",
       "      <td>0.0</td>\n",
       "    </tr>\n",
       "    <tr>\n",
       "      <th>3</th>\n",
       "      <td>customer service</td>\n",
       "      <td>1.0</td>\n",
       "      <td>PA</td>\n",
       "      <td>RENT</td>\n",
       "      <td>30000.0</td>\n",
       "      <td>Not Verified</td>\n",
       "      <td>10.16</td>\n",
       "      <td>NaN</td>\n",
       "      <td>NaN</td>\n",
       "      <td>NaN</td>\n",
       "      <td>...</td>\n",
       "      <td>A3</td>\n",
       "      <td>Jan-2018</td>\n",
       "      <td>Current</td>\n",
       "      <td>whole</td>\n",
       "      <td>Cash</td>\n",
       "      <td>18853.26</td>\n",
       "      <td>3312.89</td>\n",
       "      <td>2746.74</td>\n",
       "      <td>566.15</td>\n",
       "      <td>0.0</td>\n",
       "    </tr>\n",
       "    <tr>\n",
       "      <th>4</th>\n",
       "      <td>security supervisor</td>\n",
       "      <td>10.0</td>\n",
       "      <td>CA</td>\n",
       "      <td>RENT</td>\n",
       "      <td>35000.0</td>\n",
       "      <td>Verified</td>\n",
       "      <td>57.96</td>\n",
       "      <td>57000.0</td>\n",
       "      <td>Verified</td>\n",
       "      <td>37.66</td>\n",
       "      <td>...</td>\n",
       "      <td>C3</td>\n",
       "      <td>Mar-2018</td>\n",
       "      <td>Current</td>\n",
       "      <td>whole</td>\n",
       "      <td>Cash</td>\n",
       "      <td>21430.15</td>\n",
       "      <td>2324.65</td>\n",
       "      <td>1569.85</td>\n",
       "      <td>754.80</td>\n",
       "      <td>0.0</td>\n",
       "    </tr>\n",
       "  </tbody>\n",
       "</table>\n",
       "<p>5 rows × 55 columns</p>\n",
       "</div>"
      ],
      "text/plain": [
       "                 emp_title  emp_length state homeownership  annual_income  \\\n",
       "0  global config engineer          3.0    NJ      MORTGAGE        90000.0   \n",
       "1   warehouse office clerk        10.0    HI          RENT        40000.0   \n",
       "2                 assembly         3.0    WI          RENT        40000.0   \n",
       "3         customer service         1.0    PA          RENT        30000.0   \n",
       "4     security supervisor         10.0    CA          RENT        35000.0   \n",
       "\n",
       "   verified_income  debt_to_income  annual_income_joint  \\\n",
       "0         Verified           18.01                  NaN   \n",
       "1     Not Verified            5.04                  NaN   \n",
       "2  Source Verified           21.15                  NaN   \n",
       "3     Not Verified           10.16                  NaN   \n",
       "4         Verified           57.96              57000.0   \n",
       "\n",
       "  verification_income_joint  debt_to_income_joint  ...  sub_grade  \\\n",
       "0                       NaN                   NaN  ...         C3   \n",
       "1                       NaN                   NaN  ...         C1   \n",
       "2                       NaN                   NaN  ...         D1   \n",
       "3                       NaN                   NaN  ...         A3   \n",
       "4                  Verified                 37.66  ...         C3   \n",
       "\n",
       "   issue_month  loan_status  initial_listing_status  disbursement_method  \\\n",
       "0     Mar-2018      Current                   whole                 Cash   \n",
       "1     Feb-2018      Current                   whole                 Cash   \n",
       "2     Feb-2018      Current              fractional                 Cash   \n",
       "3     Jan-2018      Current                   whole                 Cash   \n",
       "4     Mar-2018      Current                   whole                 Cash   \n",
       "\n",
       "    balance  paid_total  paid_principal  paid_interest  paid_late_fees  \n",
       "0  27015.86     1999.33          984.14        1015.19             0.0  \n",
       "1   4651.37      499.12          348.63         150.49             0.0  \n",
       "2   1824.63      281.80          175.37         106.43             0.0  \n",
       "3  18853.26     3312.89         2746.74         566.15             0.0  \n",
       "4  21430.15     2324.65         1569.85         754.80             0.0  \n",
       "\n",
       "[5 rows x 55 columns]"
      ]
     },
     "execution_count": 3,
     "metadata": {},
     "output_type": "execute_result"
    }
   ],
   "source": [
    "data.head()"
   ]
  },
  {
   "cell_type": "markdown",
   "id": "131eed54",
   "metadata": {},
   "source": [
    "Initial Data Inspect"
   ]
  },
  {
   "cell_type": "code",
   "execution_count": 4,
   "id": "27f4ce52",
   "metadata": {},
   "outputs": [
    {
     "name": "stdout",
     "output_type": "stream",
     "text": [
      "<class 'pandas.core.frame.DataFrame'>\n",
      "RangeIndex: 10000 entries, 0 to 9999\n",
      "Data columns (total 55 columns):\n",
      " #   Column                            Non-Null Count  Dtype  \n",
      "---  ------                            --------------  -----  \n",
      " 0   emp_title                         9167 non-null   object \n",
      " 1   emp_length                        9183 non-null   float64\n",
      " 2   state                             10000 non-null  object \n",
      " 3   homeownership                     10000 non-null  object \n",
      " 4   annual_income                     10000 non-null  float64\n",
      " 5   verified_income                   10000 non-null  object \n",
      " 6   debt_to_income                    9976 non-null   float64\n",
      " 7   annual_income_joint               1495 non-null   float64\n",
      " 8   verification_income_joint         1455 non-null   object \n",
      " 9   debt_to_income_joint              1495 non-null   float64\n",
      " 10  delinq_2y                         10000 non-null  int64  \n",
      " 11  months_since_last_delinq          4342 non-null   float64\n",
      " 12  earliest_credit_line              10000 non-null  int64  \n",
      " 13  inquiries_last_12m                10000 non-null  int64  \n",
      " 14  total_credit_lines                10000 non-null  int64  \n",
      " 15  open_credit_lines                 10000 non-null  int64  \n",
      " 16  total_credit_limit                10000 non-null  int64  \n",
      " 17  total_credit_utilized             10000 non-null  int64  \n",
      " 18  num_collections_last_12m          10000 non-null  int64  \n",
      " 19  num_historical_failed_to_pay      10000 non-null  int64  \n",
      " 20  months_since_90d_late             2285 non-null   float64\n",
      " 21  current_accounts_delinq           10000 non-null  int64  \n",
      " 22  total_collection_amount_ever      10000 non-null  int64  \n",
      " 23  current_installment_accounts      10000 non-null  int64  \n",
      " 24  accounts_opened_24m               10000 non-null  int64  \n",
      " 25  months_since_last_credit_inquiry  8729 non-null   float64\n",
      " 26  num_satisfactory_accounts         10000 non-null  int64  \n",
      " 27  num_accounts_120d_past_due        9682 non-null   float64\n",
      " 28  num_accounts_30d_past_due         10000 non-null  int64  \n",
      " 29  num_active_debit_accounts         10000 non-null  int64  \n",
      " 30  total_debit_limit                 10000 non-null  int64  \n",
      " 31  num_total_cc_accounts             10000 non-null  int64  \n",
      " 32  num_open_cc_accounts              10000 non-null  int64  \n",
      " 33  num_cc_carrying_balance           10000 non-null  int64  \n",
      " 34  num_mort_accounts                 10000 non-null  int64  \n",
      " 35  account_never_delinq_percent      10000 non-null  float64\n",
      " 36  tax_liens                         10000 non-null  int64  \n",
      " 37  public_record_bankrupt            10000 non-null  int64  \n",
      " 38  loan_purpose                      10000 non-null  object \n",
      " 39  application_type                  10000 non-null  object \n",
      " 40  loan_amount                       10000 non-null  int64  \n",
      " 41  term                              10000 non-null  int64  \n",
      " 42  interest_rate                     10000 non-null  float64\n",
      " 43  installment                       10000 non-null  float64\n",
      " 44  grade                             10000 non-null  object \n",
      " 45  sub_grade                         10000 non-null  object \n",
      " 46  issue_month                       10000 non-null  object \n",
      " 47  loan_status                       10000 non-null  object \n",
      " 48  initial_listing_status            10000 non-null  object \n",
      " 49  disbursement_method               10000 non-null  object \n",
      " 50  balance                           10000 non-null  float64\n",
      " 51  paid_total                        10000 non-null  float64\n",
      " 52  paid_principal                    10000 non-null  float64\n",
      " 53  paid_interest                     10000 non-null  float64\n",
      " 54  paid_late_fees                    10000 non-null  float64\n",
      "dtypes: float64(17), int64(25), object(13)\n",
      "memory usage: 4.2+ MB\n"
     ]
    }
   ],
   "source": [
    "data.info()"
   ]
  },
  {
   "cell_type": "markdown",
   "id": "9512bc05",
   "metadata": {},
   "source": [
    "Miss data Inspect"
   ]
  },
  {
   "cell_type": "code",
   "execution_count": 5,
   "id": "7d9283f0",
   "metadata": {},
   "outputs": [
    {
     "data": {
      "text/plain": [
       "emp_title                            833\n",
       "emp_length                           817\n",
       "debt_to_income                        24\n",
       "annual_income_joint                 8505\n",
       "verification_income_joint           8545\n",
       "debt_to_income_joint                8505\n",
       "months_since_last_delinq            5658\n",
       "months_since_90d_late               7715\n",
       "months_since_last_credit_inquiry    1271\n",
       "num_accounts_120d_past_due           318\n",
       "dtype: int64"
      ]
     },
     "execution_count": 5,
     "metadata": {},
     "output_type": "execute_result"
    }
   ],
   "source": [
    "miss = data.isnull().sum()\n",
    "miss[miss>0]"
   ]
  },
  {
   "cell_type": "code",
   "execution_count": 6,
   "id": "0dfa9f56",
   "metadata": {},
   "outputs": [
    {
     "data": {
      "text/html": [
       "<div>\n",
       "<style scoped>\n",
       "    .dataframe tbody tr th:only-of-type {\n",
       "        vertical-align: middle;\n",
       "    }\n",
       "\n",
       "    .dataframe tbody tr th {\n",
       "        vertical-align: top;\n",
       "    }\n",
       "\n",
       "    .dataframe thead th {\n",
       "        text-align: right;\n",
       "    }\n",
       "</style>\n",
       "<table border=\"1\" class=\"dataframe\">\n",
       "  <thead>\n",
       "    <tr style=\"text-align: right;\">\n",
       "      <th></th>\n",
       "      <th>emp_length</th>\n",
       "      <th>annual_income</th>\n",
       "      <th>debt_to_income</th>\n",
       "      <th>annual_income_joint</th>\n",
       "      <th>debt_to_income_joint</th>\n",
       "      <th>delinq_2y</th>\n",
       "      <th>months_since_last_delinq</th>\n",
       "      <th>earliest_credit_line</th>\n",
       "      <th>inquiries_last_12m</th>\n",
       "      <th>total_credit_lines</th>\n",
       "      <th>...</th>\n",
       "      <th>public_record_bankrupt</th>\n",
       "      <th>loan_amount</th>\n",
       "      <th>term</th>\n",
       "      <th>interest_rate</th>\n",
       "      <th>installment</th>\n",
       "      <th>balance</th>\n",
       "      <th>paid_total</th>\n",
       "      <th>paid_principal</th>\n",
       "      <th>paid_interest</th>\n",
       "      <th>paid_late_fees</th>\n",
       "    </tr>\n",
       "  </thead>\n",
       "  <tbody>\n",
       "    <tr>\n",
       "      <th>count</th>\n",
       "      <td>9183.000000</td>\n",
       "      <td>1.000000e+04</td>\n",
       "      <td>9976.000000</td>\n",
       "      <td>1.495000e+03</td>\n",
       "      <td>1495.000000</td>\n",
       "      <td>10000.00000</td>\n",
       "      <td>4342.000000</td>\n",
       "      <td>10000.00000</td>\n",
       "      <td>10000.00000</td>\n",
       "      <td>10000.000000</td>\n",
       "      <td>...</td>\n",
       "      <td>10000.000000</td>\n",
       "      <td>10000.000000</td>\n",
       "      <td>10000.000000</td>\n",
       "      <td>10000.000000</td>\n",
       "      <td>10000.000000</td>\n",
       "      <td>10000.000000</td>\n",
       "      <td>10000.000000</td>\n",
       "      <td>10000.000000</td>\n",
       "      <td>10000.000000</td>\n",
       "      <td>10000.000000</td>\n",
       "    </tr>\n",
       "    <tr>\n",
       "      <th>mean</th>\n",
       "      <td>5.930306</td>\n",
       "      <td>7.922215e+04</td>\n",
       "      <td>19.308192</td>\n",
       "      <td>1.279146e+05</td>\n",
       "      <td>19.979304</td>\n",
       "      <td>0.21600</td>\n",
       "      <td>36.760709</td>\n",
       "      <td>2001.29000</td>\n",
       "      <td>1.95820</td>\n",
       "      <td>22.679600</td>\n",
       "      <td>...</td>\n",
       "      <td>0.123800</td>\n",
       "      <td>16361.922500</td>\n",
       "      <td>43.272000</td>\n",
       "      <td>12.427524</td>\n",
       "      <td>476.205323</td>\n",
       "      <td>14458.916610</td>\n",
       "      <td>2494.234773</td>\n",
       "      <td>1894.448466</td>\n",
       "      <td>599.666781</td>\n",
       "      <td>0.119516</td>\n",
       "    </tr>\n",
       "    <tr>\n",
       "      <th>std</th>\n",
       "      <td>3.703734</td>\n",
       "      <td>6.473429e+04</td>\n",
       "      <td>15.004851</td>\n",
       "      <td>7.016838e+04</td>\n",
       "      <td>8.054781</td>\n",
       "      <td>0.68366</td>\n",
       "      <td>21.634939</td>\n",
       "      <td>7.79551</td>\n",
       "      <td>2.38013</td>\n",
       "      <td>11.885439</td>\n",
       "      <td>...</td>\n",
       "      <td>0.337172</td>\n",
       "      <td>10301.956759</td>\n",
       "      <td>11.029877</td>\n",
       "      <td>5.001105</td>\n",
       "      <td>294.851627</td>\n",
       "      <td>9964.561865</td>\n",
       "      <td>3958.230365</td>\n",
       "      <td>3884.407175</td>\n",
       "      <td>517.328062</td>\n",
       "      <td>1.813468</td>\n",
       "    </tr>\n",
       "    <tr>\n",
       "      <th>min</th>\n",
       "      <td>0.000000</td>\n",
       "      <td>0.000000e+00</td>\n",
       "      <td>0.000000</td>\n",
       "      <td>1.920000e+04</td>\n",
       "      <td>0.320000</td>\n",
       "      <td>0.00000</td>\n",
       "      <td>1.000000</td>\n",
       "      <td>1963.00000</td>\n",
       "      <td>0.00000</td>\n",
       "      <td>2.000000</td>\n",
       "      <td>...</td>\n",
       "      <td>0.000000</td>\n",
       "      <td>1000.000000</td>\n",
       "      <td>36.000000</td>\n",
       "      <td>5.310000</td>\n",
       "      <td>30.750000</td>\n",
       "      <td>0.000000</td>\n",
       "      <td>0.000000</td>\n",
       "      <td>0.000000</td>\n",
       "      <td>0.000000</td>\n",
       "      <td>0.000000</td>\n",
       "    </tr>\n",
       "    <tr>\n",
       "      <th>25%</th>\n",
       "      <td>2.000000</td>\n",
       "      <td>4.500000e+04</td>\n",
       "      <td>11.057500</td>\n",
       "      <td>8.683350e+04</td>\n",
       "      <td>14.160000</td>\n",
       "      <td>0.00000</td>\n",
       "      <td>19.000000</td>\n",
       "      <td>1997.00000</td>\n",
       "      <td>0.00000</td>\n",
       "      <td>14.000000</td>\n",
       "      <td>...</td>\n",
       "      <td>0.000000</td>\n",
       "      <td>8000.000000</td>\n",
       "      <td>36.000000</td>\n",
       "      <td>9.430000</td>\n",
       "      <td>256.040000</td>\n",
       "      <td>6679.065000</td>\n",
       "      <td>928.700000</td>\n",
       "      <td>587.100000</td>\n",
       "      <td>221.757500</td>\n",
       "      <td>0.000000</td>\n",
       "    </tr>\n",
       "    <tr>\n",
       "      <th>50%</th>\n",
       "      <td>6.000000</td>\n",
       "      <td>6.500000e+04</td>\n",
       "      <td>17.570000</td>\n",
       "      <td>1.130000e+05</td>\n",
       "      <td>19.720000</td>\n",
       "      <td>0.00000</td>\n",
       "      <td>34.000000</td>\n",
       "      <td>2003.00000</td>\n",
       "      <td>1.00000</td>\n",
       "      <td>21.000000</td>\n",
       "      <td>...</td>\n",
       "      <td>0.000000</td>\n",
       "      <td>14500.000000</td>\n",
       "      <td>36.000000</td>\n",
       "      <td>11.980000</td>\n",
       "      <td>398.420000</td>\n",
       "      <td>12379.495000</td>\n",
       "      <td>1563.300000</td>\n",
       "      <td>984.990000</td>\n",
       "      <td>446.140000</td>\n",
       "      <td>0.000000</td>\n",
       "    </tr>\n",
       "    <tr>\n",
       "      <th>75%</th>\n",
       "      <td>10.000000</td>\n",
       "      <td>9.500000e+04</td>\n",
       "      <td>25.002500</td>\n",
       "      <td>1.515455e+05</td>\n",
       "      <td>25.500000</td>\n",
       "      <td>0.00000</td>\n",
       "      <td>53.000000</td>\n",
       "      <td>2006.00000</td>\n",
       "      <td>3.00000</td>\n",
       "      <td>29.000000</td>\n",
       "      <td>...</td>\n",
       "      <td>0.000000</td>\n",
       "      <td>24000.000000</td>\n",
       "      <td>60.000000</td>\n",
       "      <td>15.050000</td>\n",
       "      <td>644.690000</td>\n",
       "      <td>20690.182500</td>\n",
       "      <td>2616.005000</td>\n",
       "      <td>1694.555000</td>\n",
       "      <td>825.420000</td>\n",
       "      <td>0.000000</td>\n",
       "    </tr>\n",
       "    <tr>\n",
       "      <th>max</th>\n",
       "      <td>10.000000</td>\n",
       "      <td>2.300000e+06</td>\n",
       "      <td>469.090000</td>\n",
       "      <td>1.100000e+06</td>\n",
       "      <td>39.980000</td>\n",
       "      <td>13.00000</td>\n",
       "      <td>118.000000</td>\n",
       "      <td>2015.00000</td>\n",
       "      <td>29.00000</td>\n",
       "      <td>87.000000</td>\n",
       "      <td>...</td>\n",
       "      <td>3.000000</td>\n",
       "      <td>40000.000000</td>\n",
       "      <td>60.000000</td>\n",
       "      <td>30.940000</td>\n",
       "      <td>1566.590000</td>\n",
       "      <td>40000.000000</td>\n",
       "      <td>41630.443684</td>\n",
       "      <td>40000.000000</td>\n",
       "      <td>4216.440000</td>\n",
       "      <td>52.980000</td>\n",
       "    </tr>\n",
       "  </tbody>\n",
       "</table>\n",
       "<p>8 rows × 42 columns</p>\n",
       "</div>"
      ],
      "text/plain": [
       "        emp_length  annual_income  debt_to_income  annual_income_joint  \\\n",
       "count  9183.000000   1.000000e+04     9976.000000         1.495000e+03   \n",
       "mean      5.930306   7.922215e+04       19.308192         1.279146e+05   \n",
       "std       3.703734   6.473429e+04       15.004851         7.016838e+04   \n",
       "min       0.000000   0.000000e+00        0.000000         1.920000e+04   \n",
       "25%       2.000000   4.500000e+04       11.057500         8.683350e+04   \n",
       "50%       6.000000   6.500000e+04       17.570000         1.130000e+05   \n",
       "75%      10.000000   9.500000e+04       25.002500         1.515455e+05   \n",
       "max      10.000000   2.300000e+06      469.090000         1.100000e+06   \n",
       "\n",
       "       debt_to_income_joint    delinq_2y  months_since_last_delinq  \\\n",
       "count           1495.000000  10000.00000               4342.000000   \n",
       "mean              19.979304      0.21600                 36.760709   \n",
       "std                8.054781      0.68366                 21.634939   \n",
       "min                0.320000      0.00000                  1.000000   \n",
       "25%               14.160000      0.00000                 19.000000   \n",
       "50%               19.720000      0.00000                 34.000000   \n",
       "75%               25.500000      0.00000                 53.000000   \n",
       "max               39.980000     13.00000                118.000000   \n",
       "\n",
       "       earliest_credit_line  inquiries_last_12m  total_credit_lines  ...  \\\n",
       "count           10000.00000         10000.00000        10000.000000  ...   \n",
       "mean             2001.29000             1.95820           22.679600  ...   \n",
       "std                 7.79551             2.38013           11.885439  ...   \n",
       "min              1963.00000             0.00000            2.000000  ...   \n",
       "25%              1997.00000             0.00000           14.000000  ...   \n",
       "50%              2003.00000             1.00000           21.000000  ...   \n",
       "75%              2006.00000             3.00000           29.000000  ...   \n",
       "max              2015.00000            29.00000           87.000000  ...   \n",
       "\n",
       "       public_record_bankrupt   loan_amount          term  interest_rate  \\\n",
       "count            10000.000000  10000.000000  10000.000000   10000.000000   \n",
       "mean                 0.123800  16361.922500     43.272000      12.427524   \n",
       "std                  0.337172  10301.956759     11.029877       5.001105   \n",
       "min                  0.000000   1000.000000     36.000000       5.310000   \n",
       "25%                  0.000000   8000.000000     36.000000       9.430000   \n",
       "50%                  0.000000  14500.000000     36.000000      11.980000   \n",
       "75%                  0.000000  24000.000000     60.000000      15.050000   \n",
       "max                  3.000000  40000.000000     60.000000      30.940000   \n",
       "\n",
       "        installment       balance    paid_total  paid_principal  \\\n",
       "count  10000.000000  10000.000000  10000.000000    10000.000000   \n",
       "mean     476.205323  14458.916610   2494.234773     1894.448466   \n",
       "std      294.851627   9964.561865   3958.230365     3884.407175   \n",
       "min       30.750000      0.000000      0.000000        0.000000   \n",
       "25%      256.040000   6679.065000    928.700000      587.100000   \n",
       "50%      398.420000  12379.495000   1563.300000      984.990000   \n",
       "75%      644.690000  20690.182500   2616.005000     1694.555000   \n",
       "max     1566.590000  40000.000000  41630.443684    40000.000000   \n",
       "\n",
       "       paid_interest  paid_late_fees  \n",
       "count   10000.000000    10000.000000  \n",
       "mean      599.666781        0.119516  \n",
       "std       517.328062        1.813468  \n",
       "min         0.000000        0.000000  \n",
       "25%       221.757500        0.000000  \n",
       "50%       446.140000        0.000000  \n",
       "75%       825.420000        0.000000  \n",
       "max      4216.440000       52.980000  \n",
       "\n",
       "[8 rows x 42 columns]"
      ]
     },
     "execution_count": 6,
     "metadata": {},
     "output_type": "execute_result"
    }
   ],
   "source": [
    "data.describe()"
   ]
  },
  {
   "cell_type": "markdown",
   "id": "82c649c7",
   "metadata": {},
   "source": [
    "Visualization"
   ]
  },
  {
   "cell_type": "code",
   "execution_count": 7,
   "id": "75aefe1a",
   "metadata": {},
   "outputs": [],
   "source": [
    "import matplotlib.pyplot as plt\n",
    "import seaborn as sns"
   ]
  },
  {
   "cell_type": "markdown",
   "id": "8b41cf3e",
   "metadata": {},
   "source": [
    "Plot 1 The Distribution of Annual Income Between Different Homeownerships"
   ]
  },
  {
   "cell_type": "markdown",
   "id": "c3b4247d",
   "metadata": {},
   "source": [
    "Exclude some extreme values to better visualize the data"
   ]
  },
  {
   "cell_type": "code",
   "execution_count": 8,
   "id": "2a7aa045",
   "metadata": {},
   "outputs": [],
   "source": [
    "upper_debt_to_income = np.quantile(data['annual_income'],0.95)\n",
    "data1 = data[data['annual_income']<upper_debt_to_income]"
   ]
  },
  {
   "cell_type": "code",
   "execution_count": 9,
   "id": "e755a6cd",
   "metadata": {},
   "outputs": [
    {
     "data": {
      "text/plain": [
       "Text(0.5, 1.0, 'Distribution of Annual Income Between Different Homeownerships')"
      ]
     },
     "execution_count": 9,
     "metadata": {},
     "output_type": "execute_result"
    },
    {
     "data": {
      "image/png": "[encoded data removed]",
      "text/plain": [
       "<Figure size 432x288 with 1 Axes>"
      ]
     },
     "metadata": {
      "needs_background": "light"
     },
     "output_type": "display_data"
    }
   ],
   "source": [
    "sns.boxplot(x='homeownership',y='annual_income',data=data1).set_title('Distribution of Annual Income Between Different Homeownerships')"
   ]
  },
  {
   "cell_type": "markdown",
   "id": "85f936de",
   "metadata": {},
   "source": [
    "As we see from the boxplot, people whose homeownership type is mortgage have an overall higher annual income compared to the other 2 types of homeownership."
   ]
  },
  {
   "cell_type": "markdown",
   "id": "1613a5a9",
   "metadata": {},
   "source": [
    "Plot 2 The Distribution of Interest Rate Between Different Homeownerships"
   ]
  },
  {
   "cell_type": "code",
   "execution_count": 10,
   "id": "72901639",
   "metadata": {},
   "outputs": [
    {
     "data": {
      "text/plain": [
       "Text(0.5, 1.0, 'Distribution of Interest Rate Between Different Homeownerships')"
      ]
     },
     "execution_count": 10,
     "metadata": {},
     "output_type": "execute_result"
    },
    {
     "data": {
      "image/png": "[encoded data removed]",
      "text/plain": [
       "<Figure size 432x288 with 1 Axes>"
      ]
     },
     "metadata": {
      "needs_background": "light"
     },
     "output_type": "display_data"
    }
   ],
   "source": [
    "sns.boxplot(x='homeownership',y='interest_rate',data=data).set_title('Distribution of Interest Rate Between Different Homeownerships')"
   ]
  },
  {
   "cell_type": "markdown",
   "id": "49d93c52",
   "metadata": {},
   "source": [
    "As the plot shows, mortgage has an overall relatively lower interest rate than other 2 types of homeownerships."
   ]
  },
  {
   "cell_type": "code",
   "execution_count": 11,
   "id": "1b03461b",
   "metadata": {},
   "outputs": [],
   "source": [
    "data1 = data1.sort_values('grade')"
   ]
  },
  {
   "cell_type": "markdown",
   "id": "c49402c7",
   "metadata": {},
   "source": [
    "Plot 3 We also want to evaluate the annual income between different grades"
   ]
  },
  {
   "cell_type": "code",
   "execution_count": 12,
   "id": "6664f6da",
   "metadata": {},
   "outputs": [
    {
     "data": {
      "text/plain": [
       "Text(0.5, 1.0, 'Distribution of Annual Income Between Different Grades')"
      ]
     },
     "execution_count": 12,
     "metadata": {},
     "output_type": "execute_result"
    },
    {
     "data": {
      "image/png": "[encoded data removed]",
      "text/plain": [
       "<Figure size 432x288 with 1 Axes>"
      ]
     },
     "metadata": {
      "needs_background": "light"
     },
     "output_type": "display_data"
    }
   ],
   "source": [
    "sns.boxplot(x='grade',y='annual_income',data=data1).set_title('Distribution of Annual Income Between Different Grades')"
   ]
  },
  {
   "cell_type": "markdown",
   "id": "380482f8",
   "metadata": {},
   "source": [
    "The plot shows that for people between grade A to E, the overall annual income decreases steadily. However, for grade F and G, people have higher annual income than other grades."
   ]
  },
  {
   "cell_type": "markdown",
   "id": "4a834e46",
   "metadata": {},
   "source": [
    "Plot 4 The Distribution of Annual Income Between Different Sub_grades"
   ]
  },
  {
   "cell_type": "code",
   "execution_count": 13,
   "id": "e119501b",
   "metadata": {},
   "outputs": [
    {
     "data": {
      "text/plain": [
       "Text(0.5, 1.0, 'Distribution of Annual Income Between Different Sub_Grades')"
      ]
     },
     "execution_count": 13,
     "metadata": {},
     "output_type": "execute_result"
    },
    {
     "data": {
      "image/png": "[encoded data removed]",
      "text/plain": [
       "<Figure size 792x792 with 1 Axes>"
      ]
     },
     "metadata": {
      "needs_background": "light"
     },
     "output_type": "display_data"
    }
   ],
   "source": [
    "data1 = data1.sort_values('sub_grade')\n",
    "fig, ax = plt.subplots(figsize=(11, 11))\n",
    "sns.boxplot(x='sub_grade',y='annual_income',data=data1).set_title('Distribution of Annual Income Between Different Sub_Grades')"
   ]
  },
  {
   "cell_type": "markdown",
   "id": "42250930",
   "metadata": {},
   "source": [
    "As we see, the annual income distribution pattern basically follows the one in plot 3."
   ]
  },
  {
   "cell_type": "markdown",
   "id": "8d826204",
   "metadata": {},
   "source": [
    "Plot 5 Shows the interest rate for people in different sub grades"
   ]
  },
  {
   "cell_type": "code",
   "execution_count": 14,
   "id": "9fc30912",
   "metadata": {},
   "outputs": [
    {
     "data": {
      "text/plain": [
       "Text(0.5, 1.0, 'Distribution of Interest Rate Between Different Sub_Grades')"
      ]
     },
     "execution_count": 14,
     "metadata": {},
     "output_type": "execute_result"
    },
    {
     "data": {
      "image/png": "[encoded data removed]",
      "text/plain": [
       "<Figure size 792x792 with 1 Axes>"
      ]
     },
     "metadata": {
      "needs_background": "light"
     },
     "output_type": "display_data"
    }
   ],
   "source": [
    "data1 = data1.sort_values('sub_grade')\n",
    "fig, ax = plt.subplots(figsize=(11, 11))\n",
    "sns.boxplot(x='sub_grade',y='interest_rate',data=data1).set_title('Distribution of Interest Rate Between Different Sub_Grades')"
   ]
  },
  {
   "cell_type": "markdown",
   "id": "b65badf9",
   "metadata": {},
   "source": [
    "As we see, the lower grade a person holds, the higher interest rates he/she needs to pay."
   ]
  },
  {
   "cell_type": "markdown",
   "id": "348e1d54",
   "metadata": {},
   "source": [
    "Plot 6 We can also inspect the interest rates between different loan purposes"
   ]
  },
  {
   "cell_type": "code",
   "execution_count": 15,
   "id": "68db9ad1",
   "metadata": {},
   "outputs": [
    {
     "data": {
      "text/plain": [
       "Text(0.5, 1.0, 'Distribution of Interest Rate Between Different Loan Purposes')"
      ]
     },
     "execution_count": 15,
     "metadata": {},
     "output_type": "execute_result"
    },
    {
     "data": {
      "image/png": "[encoded data removed]",
      "text/plain": [
       "<Figure size 1368x792 with 1 Axes>"
      ]
     },
     "metadata": {
      "needs_background": "light"
     },
     "output_type": "display_data"
    }
   ],
   "source": [
    "data = data.sort_values('loan_purpose')\n",
    "fig, ax = plt.subplots(figsize=(19, 11))\n",
    "sns.boxplot(x='loan_purpose',y='interest_rate',data=data1).set_title('Distribution of Interest Rate Between Different Loan Purposes')"
   ]
  },
  {
   "cell_type": "markdown",
   "id": "d6e7b1e8",
   "metadata": {},
   "source": [
    "It shows the loan purpose for vacation, small business, renewable energy, moving and debt consolidation would charge for higher interest rates"
   ]
  },
  {
   "cell_type": "markdown",
   "id": "4d9ffb96",
   "metadata": {},
   "source": [
    "Plot 7 Using heatmap to explore the correlationships between variables"
   ]
  },
  {
   "cell_type": "code",
   "execution_count": 16,
   "id": "d6b02bd7",
   "metadata": {},
   "outputs": [
    {
     "data": {
      "image/png": "[encoded data removed]",
      "text/plain": [
       "<Figure size 936x936 with 2 Axes>"
      ]
     },
     "metadata": {
      "needs_background": "light"
     },
     "output_type": "display_data"
    }
   ],
   "source": [
    "fig, ax = plt.subplots(figsize=(13, 13))\n",
    "sns.heatmap(data.dropna(axis=0, how='any').corr(), ax=ax)\n",
    "plt.show()"
   ]
  },
  {
   "cell_type": "markdown",
   "id": "40a3eb19",
   "metadata": {},
   "source": [
    "From this plot, when we are focusing on interest rate, we can initially knowing interest rate is negatively related with annual income, annual income joint, total credit limit, months since last credit inquiry, total debit limit, number of mortgage accounts and account never delinquent percent. And it is positive related with paid interest and term."
   ]
  },
  {
   "cell_type": "markdown",
   "id": "a8978080",
   "metadata": {},
   "source": [
    "Inspect the correlation between interest rate and other variables"
   ]
  },
  {
   "cell_type": "code",
   "execution_count": 17,
   "id": "714138d8",
   "metadata": {
    "scrolled": true
   },
   "outputs": [
    {
     "data": {
      "text/plain": [
       "interest_rate                       1.000000\n",
       "paid_interest                       0.522652\n",
       "term                                0.355937\n",
       "debt_to_income_joint                0.260277\n",
       "debt_to_income                      0.136421\n",
       "inquiries_last_12m                  0.133352\n",
       "installment                         0.124691\n",
       "accounts_opened_24m                 0.123408\n",
       "earliest_credit_line                0.096935\n",
       "delinq_2y                           0.089288\n",
       "balance                             0.088443\n",
       "loan_amount                         0.086502\n",
       "num_cc_carrying_balance             0.084596\n",
       "paid_total                          0.073469\n",
       "total_credit_utilized               0.056317\n",
       "current_installment_accounts        0.050778\n",
       "public_record_bankrupt              0.044632\n",
       "num_historical_failed_to_pay        0.035781\n",
       "num_collections_last_12m            0.032151\n",
       "num_active_debit_accounts           0.028243\n",
       "paid_late_fees                      0.022721\n",
       "tax_liens                           0.016128\n",
       "total_collection_amount_ever        0.011630\n",
       "current_accounts_delinq             0.007211\n",
       "num_accounts_30d_past_due           0.007211\n",
       "paid_principal                      0.002524\n",
       "open_credit_lines                  -0.007182\n",
       "num_satisfactory_accounts          -0.007671\n",
       "num_open_cc_accounts               -0.026290\n",
       "emp_length                         -0.028566\n",
       "total_credit_lines                 -0.038640\n",
       "months_since_90d_late              -0.064973\n",
       "num_total_cc_accounts              -0.069529\n",
       "months_since_last_delinq           -0.084920\n",
       "months_since_last_credit_inquiry   -0.101477\n",
       "annual_income                      -0.107277\n",
       "total_credit_limit                 -0.120013\n",
       "account_never_delinq_percent       -0.126254\n",
       "num_mort_accounts                  -0.130333\n",
       "annual_income_joint                -0.140039\n",
       "total_debit_limit                  -0.253836\n",
       "num_accounts_120d_past_due               NaN\n",
       "Name: interest_rate, dtype: float64"
      ]
     },
     "execution_count": 17,
     "metadata": {},
     "output_type": "execute_result"
    }
   ],
   "source": [
    "correlate = data1.corr()\n",
    "corr_interest_rate = correlate.iloc[35,]\n",
    "corr_interest_rate.sort_values(ascending=False)"
   ]
  },
  {
   "cell_type": "markdown",
   "id": "f1527e4b",
   "metadata": {},
   "source": [
    "Plot 8 Inspect the high correlation between paid interest and interest rate with scatter plot"
   ]
  },
  {
   "cell_type": "code",
   "execution_count": 18,
   "id": "4ba6ff92",
   "metadata": {},
   "outputs": [
    {
     "data": {
      "text/plain": [
       "Text(0, 0.5, 'Interest Rate')"
      ]
     },
     "execution_count": 18,
     "metadata": {},
     "output_type": "execute_result"
    },
    {
     "data": {
      "image/png": "[encoded data removed]",
      "text/plain": [
       "<Figure size 432x288 with 1 Axes>"
      ]
     },
     "metadata": {
      "needs_background": "light"
     },
     "output_type": "display_data"
    }
   ],
   "source": [
    "plt.scatter(x='paid_interest',y='interest_rate',data=data)\n",
    "plt.title('Relation Between Paid Interest and Interest Rate')\n",
    "plt.xlabel('Paid Interest')\n",
    "plt.ylabel('Interest Rate')"
   ]
  },
  {
   "cell_type": "markdown",
   "id": "df9369b1",
   "metadata": {},
   "source": [
    "Predict Models Building"
   ]
  },
  {
   "cell_type": "code",
   "execution_count": null,
   "id": "5d32ac89",
   "metadata": {},
   "outputs": [],
   "source": [
    "miss = data.isnull().sum()\n",
    "miss[miss>0]"
   ]
  },
  {
   "cell_type": "code",
   "execution_count": null,
   "id": "3f22ac06",
   "metadata": {},
   "outputs": [],
   "source": [
    "data = data.fillna(0)"
   ]
  },
  {
   "cell_type": "markdown",
   "id": "c1b5edc0",
   "metadata": {},
   "source": [
    "Process some of miss values "
   ]
  },
  {
   "cell_type": "code",
   "execution_count": 32,
   "id": "dc4bab36",
   "metadata": {},
   "outputs": [],
   "source": [
    "import h2o\n",
    "from h2o.frame import H2OFrame\n",
    "from h2o.estimators.random_forest import H2ORandomForestEstimator"
   ]
  },
  {
   "cell_type": "markdown",
   "id": "1c9c8768",
   "metadata": {},
   "source": [
    "Using H2O package to bulid RandomForest Model to predict interest rate"
   ]
  },
  {
   "cell_type": "code",
   "execution_count": 33,
   "id": "3e2b3674",
   "metadata": {},
   "outputs": [
    {
     "name": "stdout",
     "output_type": "stream",
     "text": [
      "Checking whether there is an H2O instance running at http://localhost:54321 ..... not found.\n",
      "Attempting to start a local H2O server...\n",
      "  Java Version: java version \"14.0.2\" 2020-07-14; Java(TM) SE Runtime Environment (build 14.0.2+12-46); Java HotSpot(TM) 64-Bit Server VM (build 14.0.2+12-46, mixed mode, sharing)\n",
      "  Starting server from /opt/anaconda3/lib/python3.8/site-packages/h2o/backend/bin/h2o.jar\n",
      "  Ice root: /var/folders/vd/n_1qpypd1nx1tv5h10c4zt7m0000gn/T/tmp1dt1hp8c\n",
      "  JVM stdout: /var/folders/vd/n_1qpypd1nx1tv5h10c4zt7m0000gn/T/tmp1dt1hp8c/h2o_fengzhaohong_started_from_python.out\n",
      "  JVM stderr: /var/folders/vd/n_1qpypd1nx1tv5h10c4zt7m0000gn/T/tmp1dt1hp8c/h2o_fengzhaohong_started_from_python.err\n",
      "  Server is running at http://127.0.0.1:54327\n",
      "Connecting to H2O server at http://127.0.0.1:54327 ... successful.\n"
     ]
    },
    {
     "data": {
      "text/html": [
       "<div style=\"overflow:auto\"><table style=\"width:50%\"><tr><td>H2O_cluster_uptime:</td>\n",
       "<td>04 secs</td></tr>\n",
       "<tr><td>H2O_cluster_timezone:</td>\n",
       "<td>America/Los_Angeles</td></tr>\n",
       "<tr><td>H2O_data_parsing_timezone:</td>\n",
       "<td>UTC</td></tr>\n",
       "<tr><td>H2O_cluster_version:</td>\n",
       "<td>3.32.1.7</td></tr>\n",
       "<tr><td>H2O_cluster_version_age:</td>\n",
       "<td>1 month and 28 days </td></tr>\n",
       "<tr><td>H2O_cluster_name:</td>\n",
       "<td>H2O_from_python_fengzhaohong_9aftln</td></tr>\n",
       "<tr><td>H2O_cluster_total_nodes:</td>\n",
       "<td>1</td></tr>\n",
       "<tr><td>H2O_cluster_free_memory:</td>\n",
       "<td>2 Gb</td></tr>\n",
       "<tr><td>H2O_cluster_total_cores:</td>\n",
       "<td>8</td></tr>\n",
       "<tr><td>H2O_cluster_allowed_cores:</td>\n",
       "<td>8</td></tr>\n",
       "<tr><td>H2O_cluster_status:</td>\n",
       "<td>accepting new members, healthy</td></tr>\n",
       "<tr><td>H2O_connection_url:</td>\n",
       "<td>http://127.0.0.1:54327</td></tr>\n",
       "<tr><td>H2O_connection_proxy:</td>\n",
       "<td>{\"http\": null, \"https\": null}</td></tr>\n",
       "<tr><td>H2O_internal_security:</td>\n",
       "<td>False</td></tr>\n",
       "<tr><td>H2O_API_Extensions:</td>\n",
       "<td>Amazon S3, XGBoost, Algos, AutoML, Core V3, TargetEncoder, Core V4</td></tr>\n",
       "<tr><td>Python_version:</td>\n",
       "<td>3.8.8 final</td></tr></table></div>"
      ],
      "text/plain": [
       "--------------------------  ------------------------------------------------------------------\n",
       "H2O_cluster_uptime:         04 secs\n",
       "H2O_cluster_timezone:       America/Los_Angeles\n",
       "H2O_data_parsing_timezone:  UTC\n",
       "H2O_cluster_version:        3.32.1.7\n",
       "H2O_cluster_version_age:    1 month and 28 days\n",
       "H2O_cluster_name:           H2O_from_python_fengzhaohong_9aftln\n",
       "H2O_cluster_total_nodes:    1\n",
       "H2O_cluster_free_memory:    2 Gb\n",
       "H2O_cluster_total_cores:    8\n",
       "H2O_cluster_allowed_cores:  8\n",
       "H2O_cluster_status:         accepting new members, healthy\n",
       "H2O_connection_url:         http://127.0.0.1:54327\n",
       "H2O_connection_proxy:       {\"http\": null, \"https\": null}\n",
       "H2O_internal_security:      False\n",
       "H2O_API_Extensions:         Amazon S3, XGBoost, Algos, AutoML, Core V3, TargetEncoder, Core V4\n",
       "Python_version:             3.8.8 final\n",
       "--------------------------  ------------------------------------------------------------------"
      ]
     },
     "metadata": {},
     "output_type": "display_data"
    }
   ],
   "source": [
    "h2o.init()"
   ]
  },
  {
   "cell_type": "code",
   "execution_count": 34,
   "id": "ccf3728d",
   "metadata": {},
   "outputs": [],
   "source": [
    "train_5 = data.iloc[data_train_index]\n",
    "test_5 = data.drop(data_train_index)"
   ]
  },
  {
   "cell_type": "code",
   "execution_count": 35,
   "id": "c3baafe1",
   "metadata": {},
   "outputs": [
    {
     "name": "stdout",
     "output_type": "stream",
     "text": [
      "Parse progress: |█████████████████████████████████████████████████████████| 100%\n",
      "Parse progress: |█████████████████████████████████████████████████████████| 100%\n"
     ]
    }
   ],
   "source": [
    "h2odf_train=H2OFrame(train_5)\n",
    "h2odf_test=H2OFrame(test_5)"
   ]
  },
  {
   "cell_type": "code",
   "execution_count": 36,
   "id": "f11dcba4",
   "metadata": {},
   "outputs": [],
   "source": [
    "variables=['emp_length','annual_income','debt_to_income','annual_income_joint','debt_to_income_joint',\n",
    "                'delinq_2y','months_since_last_delinq','earliest_credit_line','inquiries_last_12m','total_credit_lines',\n",
    "                'open_credit_lines','total_credit_limit','total_credit_utilized','num_collections_last_12m','num_historical_failed_to_pay',\n",
    "                'months_since_90d_late','current_accounts_delinq','total_collection_amount_ever','current_installment_accounts','accounts_opened_24m',\n",
    "                'months_since_last_credit_inquiry','num_satisfactory_accounts','num_accounts_30d_past_due','num_active_debit_accounts','total_debit_limit',\n",
    "                'public_record_bankrupt','loan_amount','term','installment','balance','paid_total','paid_principal',\n",
    "                'paid_interest','paid_late_fees']\n",
    "target='interest_rate'"
   ]
  },
  {
   "cell_type": "code",
   "execution_count": 38,
   "id": "822434bc",
   "metadata": {},
   "outputs": [
    {
     "name": "stdout",
     "output_type": "stream",
     "text": [
      "drf Model Build progress: |███████████████████████████████████████████████| 100%\n"
     ]
    }
   ],
   "source": [
    "model=H2ORandomForestEstimator(balance_classes=True, ntrees=400, max_depth=40,\n",
    "                                       mtries=-1, seed=42, score_each_iteration=True)\n",
    "model.train(x=variables,y=target,training_frame=h2odf_train,validation_frame=h2odf_test)\n",
    "p=model.r2()"
   ]
  },
  {
   "cell_type": "code",
   "execution_count": 39,
   "id": "f158bbd9",
   "metadata": {},
   "outputs": [
    {
     "data": {
      "text/plain": [
       "0.8870208348199706"
      ]
     },
     "execution_count": 39,
     "metadata": {},
     "output_type": "execute_result"
    }
   ],
   "source": [
    "p"
   ]
  },
  {
   "cell_type": "markdown",
   "id": "79b28a5e",
   "metadata": {},
   "source": [
    "The importance of different predict features in the model. "
   ]
  },
  {
   "cell_type": "code",
   "execution_count": 43,
   "id": "77b044bf",
   "metadata": {},
   "outputs": [
    {
     "data": {
      "text/plain": [
       "<AxesSubplot:xlabel='scaled_importance', ylabel='variable'>"
      ]
     },
     "execution_count": 43,
     "metadata": {},
     "output_type": "execute_result"
    },
    {
     "data": {
      "image/png": "[encoded data removed]",
      "text/plain": [
       "<Figure size 1080x1080 with 1 Axes>"
      ]
     },
     "metadata": {
      "needs_background": "light"
     },
     "output_type": "display_data"
    }
   ],
   "source": [
    "importance=model.varimp(use_pandas=True)\n",
    "fig, ax = plt.subplots(figsize=(15, 15))\n",
    "sns.barplot(x='scaled_importance',y='variable',data=importance)"
   ]
  },
  {
   "cell_type": "markdown",
   "id": "3efa8b8b",
   "metadata": {},
   "source": [
    "We can see paid interest, paid principal, term, paid total, total debit limit are relative important variables for interest rate predicting.\n",
    "\n",
    "Select top 10 important variables to rebuild the model."
   ]
  },
  {
   "cell_type": "code",
   "execution_count": 71,
   "id": "2ed96e32",
   "metadata": {},
   "outputs": [],
   "source": [
    "variables1=['paid_interest','paid_principal','term','paid_total','total_debit_limit','loan_amount',\n",
    "                'balance','installment','debt_to_income','total_credit_limit']\n",
    "target1='interest_rate'"
   ]
  },
  {
   "cell_type": "code",
   "execution_count": 72,
   "id": "559a5bb9",
   "metadata": {},
   "outputs": [
    {
     "name": "stdout",
     "output_type": "stream",
     "text": [
      "drf Model Build progress: |███████████████████████████████████████████████| 100%\n"
     ]
    }
   ],
   "source": [
    "model2=H2ORandomForestEstimator(balance_classes=True, ntrees=400, max_depth=40,\n",
    "                                       mtries=-1, seed=42, score_each_iteration=True)\n",
    "model2.train(x=variables1,y=target1,training_frame=h2odf_train,validation_frame=h2odf_test)"
   ]
  },
  {
   "cell_type": "code",
   "execution_count": 75,
   "id": "12b2943b",
   "metadata": {},
   "outputs": [],
   "source": [
    "p_test=model2.r2(valid=True)"
   ]
  },
  {
   "cell_type": "code",
   "execution_count": 76,
   "id": "ae8c2f3a",
   "metadata": {},
   "outputs": [
    {
     "data": {
      "text/plain": [
       "0.9700450667588197"
      ]
     },
     "execution_count": 76,
     "metadata": {},
     "output_type": "execute_result"
    }
   ],
   "source": [
    "p_test"
   ]
  },
  {
   "cell_type": "markdown",
   "id": "eafe290d",
   "metadata": {},
   "source": [
    "The R squared of the model for test dataset is 0.97."
   ]
  },
  {
   "cell_type": "code",
   "execution_count": 77,
   "id": "7e60acbc",
   "metadata": {},
   "outputs": [
    {
     "data": {
      "text/plain": [
       "<AxesSubplot:xlabel='scaled_importance', ylabel='variable'>"
      ]
     },
     "execution_count": 77,
     "metadata": {},
     "output_type": "execute_result"
    },
    {
     "data": {
      "image/png": "[encoded data removed]",
      "text/plain": [
       "<Figure size 1080x1080 with 1 Axes>"
      ]
     },
     "metadata": {
      "needs_background": "light"
     },
     "output_type": "display_data"
    }
   ],
   "source": [
    "importance=model2.varimp(use_pandas=True)\n",
    "fig, ax = plt.subplots(figsize=(15, 15))\n",
    "sns.barplot(x='scaled_importance',y='variable',data=importance)"
   ]
  },
  {
   "cell_type": "markdown",
   "id": "d49a64eb",
   "metadata": {},
   "source": [
    "We can also inspect the importance of different variables for predicting interest rate in this model."
   ]
  },
  {
   "cell_type": "markdown",
   "id": "4988ed56",
   "metadata": {},
   "source": [
    "2 nd Model would apply multi-linear regression"
   ]
  },
  {
   "cell_type": "code",
   "execution_count": 78,
   "id": "3339c52b",
   "metadata": {},
   "outputs": [],
   "source": [
    "import statsmodels.api as sm\n",
    "import statsmodels.formula.api as smf\n",
    "from sklearn.metrics import r2_score"
   ]
  },
  {
   "cell_type": "markdown",
   "id": "6ad32410",
   "metadata": {},
   "source": [
    "Based on Random Forest Regression, develop a regression model with variables that are important."
   ]
  },
  {
   "cell_type": "code",
   "execution_count": 86,
   "id": "1bdc083d",
   "metadata": {},
   "outputs": [],
   "source": [
    "np.random.seed(12)\n",
    "data_train_index=data.sample(frac=0.75).index"
   ]
  },
  {
   "cell_type": "code",
   "execution_count": 87,
   "id": "8793a077",
   "metadata": {},
   "outputs": [],
   "source": [
    "train_y = data['interest_rate'].iloc[data_train_index]\n",
    "train_x = data[['paid_interest','paid_principal','term','paid_total','total_debit_limit','loan_amount',\n",
    "                'balance','installment','debt_to_income','total_credit_limit',\n",
    "                'annual_income']].iloc[data_train_index]"
   ]
  },
  {
   "cell_type": "code",
   "execution_count": 88,
   "id": "e72f5649",
   "metadata": {},
   "outputs": [],
   "source": [
    "regression1 = sm.OLS(train_y,sm.add_constant(train_x))"
   ]
  },
  {
   "cell_type": "code",
   "execution_count": 89,
   "id": "f0918583",
   "metadata": {},
   "outputs": [
    {
     "data": {
      "text/html": [
       "<table class=\"simpletable\">\n",
       "<caption>OLS Regression Results</caption>\n",
       "<tr>\n",
       "  <th>Dep. Variable:</th>      <td>interest_rate</td>  <th>  R-squared:         </th> <td>   0.645</td> \n",
       "</tr>\n",
       "<tr>\n",
       "  <th>Model:</th>                   <td>OLS</td>       <th>  Adj. R-squared:    </th> <td>   0.644</td> \n",
       "</tr>\n",
       "<tr>\n",
       "  <th>Method:</th>             <td>Least Squares</td>  <th>  F-statistic:       </th> <td>   1235.</td> \n",
       "</tr>\n",
       "<tr>\n",
       "  <th>Date:</th>             <td>Sun, 31 Oct 2021</td> <th>  Prob (F-statistic):</th>  <td>  0.00</td>  \n",
       "</tr>\n",
       "<tr>\n",
       "  <th>Time:</th>                 <td>05:10:11</td>     <th>  Log-Likelihood:    </th> <td> -18875.</td> \n",
       "</tr>\n",
       "<tr>\n",
       "  <th>No. Observations:</th>      <td>  7500</td>      <th>  AIC:               </th> <td>3.777e+04</td>\n",
       "</tr>\n",
       "<tr>\n",
       "  <th>Df Residuals:</th>          <td>  7488</td>      <th>  BIC:               </th> <td>3.786e+04</td>\n",
       "</tr>\n",
       "<tr>\n",
       "  <th>Df Model:</th>              <td>    11</td>      <th>                     </th>     <td> </td>    \n",
       "</tr>\n",
       "<tr>\n",
       "  <th>Covariance Type:</th>      <td>nonrobust</td>    <th>                     </th>     <td> </td>    \n",
       "</tr>\n",
       "</table>\n",
       "<table class=\"simpletable\">\n",
       "<tr>\n",
       "           <td></td>             <th>coef</th>     <th>std err</th>      <th>t</th>      <th>P>|t|</th>  <th>[0.025</th>    <th>0.975]</th>  \n",
       "</tr>\n",
       "<tr>\n",
       "  <th>const</th>              <td>   -2.0141</td> <td>    0.270</td> <td>   -7.455</td> <td> 0.000</td> <td>   -2.544</td> <td>   -1.484</td>\n",
       "</tr>\n",
       "<tr>\n",
       "  <th>paid_interest</th>      <td>   -0.0285</td> <td>    0.019</td> <td>   -1.513</td> <td> 0.130</td> <td>   -0.065</td> <td>    0.008</td>\n",
       "</tr>\n",
       "<tr>\n",
       "  <th>paid_principal</th>     <td>   -0.0339</td> <td>    0.019</td> <td>   -1.802</td> <td> 0.072</td> <td>   -0.071</td> <td>    0.003</td>\n",
       "</tr>\n",
       "<tr>\n",
       "  <th>term</th>               <td>    0.3484</td> <td>    0.006</td> <td>   54.272</td> <td> 0.000</td> <td>    0.336</td> <td>    0.361</td>\n",
       "</tr>\n",
       "<tr>\n",
       "  <th>paid_total</th>         <td>    0.0339</td> <td>    0.019</td> <td>    1.802</td> <td> 0.072</td> <td>   -0.003</td> <td>    0.071</td>\n",
       "</tr>\n",
       "<tr>\n",
       "  <th>total_debit_limit</th>  <td>-2.291e-05</td> <td> 1.52e-06</td> <td>  -15.087</td> <td> 0.000</td> <td>-2.59e-05</td> <td>-1.99e-05</td>\n",
       "</tr>\n",
       "<tr>\n",
       "  <th>loan_amount</th>        <td>   -0.0011</td> <td> 9.77e-05</td> <td>  -11.141</td> <td> 0.000</td> <td>   -0.001</td> <td>   -0.001</td>\n",
       "</tr>\n",
       "<tr>\n",
       "  <th>balance</th>            <td>-7.225e-05</td> <td> 9.56e-05</td> <td>   -0.756</td> <td> 0.450</td> <td>   -0.000</td> <td>    0.000</td>\n",
       "</tr>\n",
       "<tr>\n",
       "  <th>installment</th>        <td>    0.0320</td> <td>    0.001</td> <td>   49.039</td> <td> 0.000</td> <td>    0.031</td> <td>    0.033</td>\n",
       "</tr>\n",
       "<tr>\n",
       "  <th>debt_to_income</th>     <td>    0.0230</td> <td>    0.003</td> <td>    8.818</td> <td> 0.000</td> <td>    0.018</td> <td>    0.028</td>\n",
       "</tr>\n",
       "<tr>\n",
       "  <th>total_credit_limit</th> <td>-8.436e-07</td> <td> 2.37e-07</td> <td>   -3.557</td> <td> 0.000</td> <td>-1.31e-06</td> <td>-3.79e-07</td>\n",
       "</tr>\n",
       "<tr>\n",
       "  <th>annual_income</th>      <td> 2.605e-07</td> <td> 6.66e-07</td> <td>    0.391</td> <td> 0.696</td> <td>-1.05e-06</td> <td> 1.57e-06</td>\n",
       "</tr>\n",
       "</table>\n",
       "<table class=\"simpletable\">\n",
       "<tr>\n",
       "  <th>Omnibus:</th>       <td>1128.660</td> <th>  Durbin-Watson:     </th> <td>   1.994</td>\n",
       "</tr>\n",
       "<tr>\n",
       "  <th>Prob(Omnibus):</th>  <td> 0.000</td>  <th>  Jarque-Bera (JB):  </th> <td>1992.887</td>\n",
       "</tr>\n",
       "<tr>\n",
       "  <th>Skew:</th>           <td> 0.977</td>  <th>  Prob(JB):          </th> <td>    0.00</td>\n",
       "</tr>\n",
       "<tr>\n",
       "  <th>Kurtosis:</th>       <td> 4.600</td>  <th>  Cond. No.          </th> <td>2.12e+06</td>\n",
       "</tr>\n",
       "</table><br/><br/>Notes:<br/>[1] Standard Errors assume that the covariance matrix of the errors is correctly specified.<br/>[2] The condition number is large, 2.12e+06. This might indicate that there are<br/>strong multicollinearity or other numerical problems."
      ],
      "text/plain": [
       "<class 'statsmodels.iolib.summary.Summary'>\n",
       "\"\"\"\n",
       "                            OLS Regression Results                            \n",
       "==============================================================================\n",
       "Dep. Variable:          interest_rate   R-squared:                       0.645\n",
       "Model:                            OLS   Adj. R-squared:                  0.644\n",
       "Method:                 Least Squares   F-statistic:                     1235.\n",
       "Date:                Sun, 31 Oct 2021   Prob (F-statistic):               0.00\n",
       "Time:                        05:10:11   Log-Likelihood:                -18875.\n",
       "No. Observations:                7500   AIC:                         3.777e+04\n",
       "Df Residuals:                    7488   BIC:                         3.786e+04\n",
       "Df Model:                          11                                         \n",
       "Covariance Type:            nonrobust                                         \n",
       "======================================================================================\n",
       "                         coef    std err          t      P>|t|      [0.025      0.975]\n",
       "--------------------------------------------------------------------------------------\n",
       "const                 -2.0141      0.270     -7.455      0.000      -2.544      -1.484\n",
       "paid_interest         -0.0285      0.019     -1.513      0.130      -0.065       0.008\n",
       "paid_principal        -0.0339      0.019     -1.802      0.072      -0.071       0.003\n",
       "term                   0.3484      0.006     54.272      0.000       0.336       0.361\n",
       "paid_total             0.0339      0.019      1.802      0.072      -0.003       0.071\n",
       "total_debit_limit  -2.291e-05   1.52e-06    -15.087      0.000   -2.59e-05   -1.99e-05\n",
       "loan_amount           -0.0011   9.77e-05    -11.141      0.000      -0.001      -0.001\n",
       "balance            -7.225e-05   9.56e-05     -0.756      0.450      -0.000       0.000\n",
       "installment            0.0320      0.001     49.039      0.000       0.031       0.033\n",
       "debt_to_income         0.0230      0.003      8.818      0.000       0.018       0.028\n",
       "total_credit_limit -8.436e-07   2.37e-07     -3.557      0.000   -1.31e-06   -3.79e-07\n",
       "annual_income       2.605e-07   6.66e-07      0.391      0.696   -1.05e-06    1.57e-06\n",
       "==============================================================================\n",
       "Omnibus:                     1128.660   Durbin-Watson:                   1.994\n",
       "Prob(Omnibus):                  0.000   Jarque-Bera (JB):             1992.887\n",
       "Skew:                           0.977   Prob(JB):                         0.00\n",
       "Kurtosis:                       4.600   Cond. No.                     2.12e+06\n",
       "==============================================================================\n",
       "\n",
       "Notes:\n",
       "[1] Standard Errors assume that the covariance matrix of the errors is correctly specified.\n",
       "[2] The condition number is large, 2.12e+06. This might indicate that there are\n",
       "strong multicollinearity or other numerical problems.\n",
       "\"\"\""
      ]
     },
     "execution_count": 89,
     "metadata": {},
     "output_type": "execute_result"
    }
   ],
   "source": [
    "regression1.fit().summary()"
   ]
  },
  {
   "cell_type": "markdown",
   "id": "c3cd474b",
   "metadata": {},
   "source": [
    "Drop the variables which are not statistically significant one by one."
   ]
  },
  {
   "cell_type": "code",
   "execution_count": 90,
   "id": "dc8c3327",
   "metadata": {},
   "outputs": [
    {
     "data": {
      "text/html": [
       "<table class=\"simpletable\">\n",
       "<caption>OLS Regression Results</caption>\n",
       "<tr>\n",
       "  <th>Dep. Variable:</th>      <td>interest_rate</td>  <th>  R-squared:         </th> <td>   0.645</td> \n",
       "</tr>\n",
       "<tr>\n",
       "  <th>Model:</th>                   <td>OLS</td>       <th>  Adj. R-squared:    </th> <td>   0.644</td> \n",
       "</tr>\n",
       "<tr>\n",
       "  <th>Method:</th>             <td>Least Squares</td>  <th>  F-statistic:       </th> <td>   1359.</td> \n",
       "</tr>\n",
       "<tr>\n",
       "  <th>Date:</th>             <td>Sun, 31 Oct 2021</td> <th>  Prob (F-statistic):</th>  <td>  0.00</td>  \n",
       "</tr>\n",
       "<tr>\n",
       "  <th>Time:</th>                 <td>05:10:20</td>     <th>  Log-Likelihood:    </th> <td> -18875.</td> \n",
       "</tr>\n",
       "<tr>\n",
       "  <th>No. Observations:</th>      <td>  7500</td>      <th>  AIC:               </th> <td>3.777e+04</td>\n",
       "</tr>\n",
       "<tr>\n",
       "  <th>Df Residuals:</th>          <td>  7489</td>      <th>  BIC:               </th> <td>3.785e+04</td>\n",
       "</tr>\n",
       "<tr>\n",
       "  <th>Df Model:</th>              <td>    10</td>      <th>                     </th>     <td> </td>    \n",
       "</tr>\n",
       "<tr>\n",
       "  <th>Covariance Type:</th>      <td>nonrobust</td>    <th>                     </th>     <td> </td>    \n",
       "</tr>\n",
       "</table>\n",
       "<table class=\"simpletable\">\n",
       "<tr>\n",
       "           <td></td>             <th>coef</th>     <th>std err</th>      <th>t</th>      <th>P>|t|</th>  <th>[0.025</th>    <th>0.975]</th>  \n",
       "</tr>\n",
       "<tr>\n",
       "  <th>const</th>              <td>   -1.9979</td> <td>    0.267</td> <td>   -7.484</td> <td> 0.000</td> <td>   -2.521</td> <td>   -1.475</td>\n",
       "</tr>\n",
       "<tr>\n",
       "  <th>paid_interest</th>      <td>   -0.0286</td> <td>    0.019</td> <td>   -1.516</td> <td> 0.130</td> <td>   -0.065</td> <td>    0.008</td>\n",
       "</tr>\n",
       "<tr>\n",
       "  <th>paid_principal</th>     <td>   -0.0340</td> <td>    0.019</td> <td>   -1.804</td> <td> 0.071</td> <td>   -0.071</td> <td>    0.003</td>\n",
       "</tr>\n",
       "<tr>\n",
       "  <th>term</th>               <td>    0.3483</td> <td>    0.006</td> <td>   54.308</td> <td> 0.000</td> <td>    0.336</td> <td>    0.361</td>\n",
       "</tr>\n",
       "<tr>\n",
       "  <th>paid_total</th>         <td>    0.0340</td> <td>    0.019</td> <td>    1.805</td> <td> 0.071</td> <td>   -0.003</td> <td>    0.071</td>\n",
       "</tr>\n",
       "<tr>\n",
       "  <th>total_debit_limit</th>  <td>-2.286e-05</td> <td> 1.51e-06</td> <td>  -15.125</td> <td> 0.000</td> <td>-2.58e-05</td> <td>-1.99e-05</td>\n",
       "</tr>\n",
       "<tr>\n",
       "  <th>loan_amount</th>        <td>   -0.0011</td> <td> 9.77e-05</td> <td>  -11.143</td> <td> 0.000</td> <td>   -0.001</td> <td>   -0.001</td>\n",
       "</tr>\n",
       "<tr>\n",
       "  <th>balance</th>            <td>-7.193e-05</td> <td> 9.56e-05</td> <td>   -0.752</td> <td> 0.452</td> <td>   -0.000</td> <td>    0.000</td>\n",
       "</tr>\n",
       "<tr>\n",
       "  <th>installment</th>        <td>    0.0320</td> <td>    0.001</td> <td>   49.048</td> <td> 0.000</td> <td>    0.031</td> <td>    0.033</td>\n",
       "</tr>\n",
       "<tr>\n",
       "  <th>debt_to_income</th>     <td>    0.0227</td> <td>    0.003</td> <td>    9.058</td> <td> 0.000</td> <td>    0.018</td> <td>    0.028</td>\n",
       "</tr>\n",
       "<tr>\n",
       "  <th>total_credit_limit</th> <td>-8.043e-07</td> <td> 2.15e-07</td> <td>   -3.743</td> <td> 0.000</td> <td>-1.23e-06</td> <td>-3.83e-07</td>\n",
       "</tr>\n",
       "</table>\n",
       "<table class=\"simpletable\">\n",
       "<tr>\n",
       "  <th>Omnibus:</th>       <td>1128.827</td> <th>  Durbin-Watson:     </th> <td>   1.994</td>\n",
       "</tr>\n",
       "<tr>\n",
       "  <th>Prob(Omnibus):</th>  <td> 0.000</td>  <th>  Jarque-Bera (JB):  </th> <td>1993.170</td>\n",
       "</tr>\n",
       "<tr>\n",
       "  <th>Skew:</th>           <td> 0.977</td>  <th>  Prob(JB):          </th> <td>    0.00</td>\n",
       "</tr>\n",
       "<tr>\n",
       "  <th>Kurtosis:</th>       <td> 4.600</td>  <th>  Cond. No.          </th> <td>2.00e+06</td>\n",
       "</tr>\n",
       "</table><br/><br/>Notes:<br/>[1] Standard Errors assume that the covariance matrix of the errors is correctly specified.<br/>[2] The condition number is large,  2e+06. This might indicate that there are<br/>strong multicollinearity or other numerical problems."
      ],
      "text/plain": [
       "<class 'statsmodels.iolib.summary.Summary'>\n",
       "\"\"\"\n",
       "                            OLS Regression Results                            \n",
       "==============================================================================\n",
       "Dep. Variable:          interest_rate   R-squared:                       0.645\n",
       "Model:                            OLS   Adj. R-squared:                  0.644\n",
       "Method:                 Least Squares   F-statistic:                     1359.\n",
       "Date:                Sun, 31 Oct 2021   Prob (F-statistic):               0.00\n",
       "Time:                        05:10:20   Log-Likelihood:                -18875.\n",
       "No. Observations:                7500   AIC:                         3.777e+04\n",
       "Df Residuals:                    7489   BIC:                         3.785e+04\n",
       "Df Model:                          10                                         \n",
       "Covariance Type:            nonrobust                                         \n",
       "======================================================================================\n",
       "                         coef    std err          t      P>|t|      [0.025      0.975]\n",
       "--------------------------------------------------------------------------------------\n",
       "const                 -1.9979      0.267     -7.484      0.000      -2.521      -1.475\n",
       "paid_interest         -0.0286      0.019     -1.516      0.130      -0.065       0.008\n",
       "paid_principal        -0.0340      0.019     -1.804      0.071      -0.071       0.003\n",
       "term                   0.3483      0.006     54.308      0.000       0.336       0.361\n",
       "paid_total             0.0340      0.019      1.805      0.071      -0.003       0.071\n",
       "total_debit_limit  -2.286e-05   1.51e-06    -15.125      0.000   -2.58e-05   -1.99e-05\n",
       "loan_amount           -0.0011   9.77e-05    -11.143      0.000      -0.001      -0.001\n",
       "balance            -7.193e-05   9.56e-05     -0.752      0.452      -0.000       0.000\n",
       "installment            0.0320      0.001     49.048      0.000       0.031       0.033\n",
       "debt_to_income         0.0227      0.003      9.058      0.000       0.018       0.028\n",
       "total_credit_limit -8.043e-07   2.15e-07     -3.743      0.000   -1.23e-06   -3.83e-07\n",
       "==============================================================================\n",
       "Omnibus:                     1128.827   Durbin-Watson:                   1.994\n",
       "Prob(Omnibus):                  0.000   Jarque-Bera (JB):             1993.170\n",
       "Skew:                           0.977   Prob(JB):                         0.00\n",
       "Kurtosis:                       4.600   Cond. No.                     2.00e+06\n",
       "==============================================================================\n",
       "\n",
       "Notes:\n",
       "[1] Standard Errors assume that the covariance matrix of the errors is correctly specified.\n",
       "[2] The condition number is large,  2e+06. This might indicate that there are\n",
       "strong multicollinearity or other numerical problems.\n",
       "\"\"\""
      ]
     },
     "execution_count": 90,
     "metadata": {},
     "output_type": "execute_result"
    }
   ],
   "source": [
    "train_x_2 = train_x.drop('annual_income',axis=1)\n",
    "regression2 = sm.OLS(train_y,sm.add_constant(train_x_2))\n",
    "regression2.fit().summary()"
   ]
  },
  {
   "cell_type": "code",
   "execution_count": 91,
   "id": "c5f970ac",
   "metadata": {},
   "outputs": [
    {
     "data": {
      "text/html": [
       "<table class=\"simpletable\">\n",
       "<caption>OLS Regression Results</caption>\n",
       "<tr>\n",
       "  <th>Dep. Variable:</th>      <td>interest_rate</td>  <th>  R-squared:         </th> <td>   0.645</td> \n",
       "</tr>\n",
       "<tr>\n",
       "  <th>Model:</th>                   <td>OLS</td>       <th>  Adj. R-squared:    </th> <td>   0.644</td> \n",
       "</tr>\n",
       "<tr>\n",
       "  <th>Method:</th>             <td>Least Squares</td>  <th>  F-statistic:       </th> <td>   1510.</td> \n",
       "</tr>\n",
       "<tr>\n",
       "  <th>Date:</th>             <td>Sun, 31 Oct 2021</td> <th>  Prob (F-statistic):</th>  <td>  0.00</td>  \n",
       "</tr>\n",
       "<tr>\n",
       "  <th>Time:</th>                 <td>05:10:20</td>     <th>  Log-Likelihood:    </th> <td> -18875.</td> \n",
       "</tr>\n",
       "<tr>\n",
       "  <th>No. Observations:</th>      <td>  7500</td>      <th>  AIC:               </th> <td>3.777e+04</td>\n",
       "</tr>\n",
       "<tr>\n",
       "  <th>Df Residuals:</th>          <td>  7490</td>      <th>  BIC:               </th> <td>3.784e+04</td>\n",
       "</tr>\n",
       "<tr>\n",
       "  <th>Df Model:</th>              <td>     9</td>      <th>                     </th>     <td> </td>    \n",
       "</tr>\n",
       "<tr>\n",
       "  <th>Covariance Type:</th>      <td>nonrobust</td>    <th>                     </th>     <td> </td>    \n",
       "</tr>\n",
       "</table>\n",
       "<table class=\"simpletable\">\n",
       "<tr>\n",
       "           <td></td>             <th>coef</th>     <th>std err</th>      <th>t</th>      <th>P>|t|</th>  <th>[0.025</th>    <th>0.975]</th>  \n",
       "</tr>\n",
       "<tr>\n",
       "  <th>const</th>              <td>   -2.0015</td> <td>    0.267</td> <td>   -7.499</td> <td> 0.000</td> <td>   -2.525</td> <td>   -1.478</td>\n",
       "</tr>\n",
       "<tr>\n",
       "  <th>paid_interest</th>      <td>   -0.0285</td> <td>    0.019</td> <td>   -1.516</td> <td> 0.130</td> <td>   -0.065</td> <td>    0.008</td>\n",
       "</tr>\n",
       "<tr>\n",
       "  <th>paid_principal</th>     <td>   -0.0339</td> <td>    0.019</td> <td>   -1.800</td> <td> 0.072</td> <td>   -0.071</td> <td>    0.003</td>\n",
       "</tr>\n",
       "<tr>\n",
       "  <th>term</th>               <td>    0.3484</td> <td>    0.006</td> <td>   54.333</td> <td> 0.000</td> <td>    0.336</td> <td>    0.361</td>\n",
       "</tr>\n",
       "<tr>\n",
       "  <th>paid_total</th>         <td>    0.0340</td> <td>    0.019</td> <td>    1.805</td> <td> 0.071</td> <td>   -0.003</td> <td>    0.071</td>\n",
       "</tr>\n",
       "<tr>\n",
       "  <th>total_debit_limit</th>  <td>-2.284e-05</td> <td> 1.51e-06</td> <td>  -15.117</td> <td> 0.000</td> <td>-2.58e-05</td> <td>-1.99e-05</td>\n",
       "</tr>\n",
       "<tr>\n",
       "  <th>loan_amount</th>        <td>   -0.0012</td> <td> 1.85e-05</td> <td>  -62.716</td> <td> 0.000</td> <td>   -0.001</td> <td>   -0.001</td>\n",
       "</tr>\n",
       "<tr>\n",
       "  <th>installment</th>        <td>    0.0320</td> <td>    0.001</td> <td>   49.078</td> <td> 0.000</td> <td>    0.031</td> <td>    0.033</td>\n",
       "</tr>\n",
       "<tr>\n",
       "  <th>debt_to_income</th>     <td>    0.0227</td> <td>    0.003</td> <td>    9.064</td> <td> 0.000</td> <td>    0.018</td> <td>    0.028</td>\n",
       "</tr>\n",
       "<tr>\n",
       "  <th>total_credit_limit</th> <td> -8.03e-07</td> <td> 2.15e-07</td> <td>   -3.737</td> <td> 0.000</td> <td>-1.22e-06</td> <td>-3.82e-07</td>\n",
       "</tr>\n",
       "</table>\n",
       "<table class=\"simpletable\">\n",
       "<tr>\n",
       "  <th>Omnibus:</th>       <td>1127.784</td> <th>  Durbin-Watson:     </th> <td>   1.994</td>\n",
       "</tr>\n",
       "<tr>\n",
       "  <th>Prob(Omnibus):</th>  <td> 0.000</td>  <th>  Jarque-Bera (JB):  </th> <td>1990.338</td>\n",
       "</tr>\n",
       "<tr>\n",
       "  <th>Skew:</th>           <td> 0.977</td>  <th>  Prob(JB):          </th> <td>    0.00</td>\n",
       "</tr>\n",
       "<tr>\n",
       "  <th>Kurtosis:</th>       <td> 4.598</td>  <th>  Cond. No.          </th> <td>2.00e+06</td>\n",
       "</tr>\n",
       "</table><br/><br/>Notes:<br/>[1] Standard Errors assume that the covariance matrix of the errors is correctly specified.<br/>[2] The condition number is large,  2e+06. This might indicate that there are<br/>strong multicollinearity or other numerical problems."
      ],
      "text/plain": [
       "<class 'statsmodels.iolib.summary.Summary'>\n",
       "\"\"\"\n",
       "                            OLS Regression Results                            \n",
       "==============================================================================\n",
       "Dep. Variable:          interest_rate   R-squared:                       0.645\n",
       "Model:                            OLS   Adj. R-squared:                  0.644\n",
       "Method:                 Least Squares   F-statistic:                     1510.\n",
       "Date:                Sun, 31 Oct 2021   Prob (F-statistic):               0.00\n",
       "Time:                        05:10:20   Log-Likelihood:                -18875.\n",
       "No. Observations:                7500   AIC:                         3.777e+04\n",
       "Df Residuals:                    7490   BIC:                         3.784e+04\n",
       "Df Model:                           9                                         \n",
       "Covariance Type:            nonrobust                                         \n",
       "======================================================================================\n",
       "                         coef    std err          t      P>|t|      [0.025      0.975]\n",
       "--------------------------------------------------------------------------------------\n",
       "const                 -2.0015      0.267     -7.499      0.000      -2.525      -1.478\n",
       "paid_interest         -0.0285      0.019     -1.516      0.130      -0.065       0.008\n",
       "paid_principal        -0.0339      0.019     -1.800      0.072      -0.071       0.003\n",
       "term                   0.3484      0.006     54.333      0.000       0.336       0.361\n",
       "paid_total             0.0340      0.019      1.805      0.071      -0.003       0.071\n",
       "total_debit_limit  -2.284e-05   1.51e-06    -15.117      0.000   -2.58e-05   -1.99e-05\n",
       "loan_amount           -0.0012   1.85e-05    -62.716      0.000      -0.001      -0.001\n",
       "installment            0.0320      0.001     49.078      0.000       0.031       0.033\n",
       "debt_to_income         0.0227      0.003      9.064      0.000       0.018       0.028\n",
       "total_credit_limit  -8.03e-07   2.15e-07     -3.737      0.000   -1.22e-06   -3.82e-07\n",
       "==============================================================================\n",
       "Omnibus:                     1127.784   Durbin-Watson:                   1.994\n",
       "Prob(Omnibus):                  0.000   Jarque-Bera (JB):             1990.338\n",
       "Skew:                           0.977   Prob(JB):                         0.00\n",
       "Kurtosis:                       4.598   Cond. No.                     2.00e+06\n",
       "==============================================================================\n",
       "\n",
       "Notes:\n",
       "[1] Standard Errors assume that the covariance matrix of the errors is correctly specified.\n",
       "[2] The condition number is large,  2e+06. This might indicate that there are\n",
       "strong multicollinearity or other numerical problems.\n",
       "\"\"\""
      ]
     },
     "execution_count": 91,
     "metadata": {},
     "output_type": "execute_result"
    }
   ],
   "source": [
    "train_x_3 = train_x_2.drop('balance',axis=1)\n",
    "regression3 = sm.OLS(train_y,sm.add_constant(train_x_3))\n",
    "regression3.fit().summary()"
   ]
  },
  {
   "cell_type": "code",
   "execution_count": 92,
   "id": "591d5a04",
   "metadata": {},
   "outputs": [
    {
     "data": {
      "text/html": [
       "<table class=\"simpletable\">\n",
       "<caption>OLS Regression Results</caption>\n",
       "<tr>\n",
       "  <th>Dep. Variable:</th>      <td>interest_rate</td>  <th>  R-squared:         </th> <td>   0.645</td> \n",
       "</tr>\n",
       "<tr>\n",
       "  <th>Model:</th>                   <td>OLS</td>       <th>  Adj. R-squared:    </th> <td>   0.644</td> \n",
       "</tr>\n",
       "<tr>\n",
       "  <th>Method:</th>             <td>Least Squares</td>  <th>  F-statistic:       </th> <td>   1698.</td> \n",
       "</tr>\n",
       "<tr>\n",
       "  <th>Date:</th>             <td>Sun, 31 Oct 2021</td> <th>  Prob (F-statistic):</th>  <td>  0.00</td>  \n",
       "</tr>\n",
       "<tr>\n",
       "  <th>Time:</th>                 <td>05:10:20</td>     <th>  Log-Likelihood:    </th> <td> -18876.</td> \n",
       "</tr>\n",
       "<tr>\n",
       "  <th>No. Observations:</th>      <td>  7500</td>      <th>  AIC:               </th> <td>3.777e+04</td>\n",
       "</tr>\n",
       "<tr>\n",
       "  <th>Df Residuals:</th>          <td>  7491</td>      <th>  BIC:               </th> <td>3.783e+04</td>\n",
       "</tr>\n",
       "<tr>\n",
       "  <th>Df Model:</th>              <td>     8</td>      <th>                     </th>     <td> </td>    \n",
       "</tr>\n",
       "<tr>\n",
       "  <th>Covariance Type:</th>      <td>nonrobust</td>    <th>                     </th>     <td> </td>    \n",
       "</tr>\n",
       "</table>\n",
       "<table class=\"simpletable\">\n",
       "<tr>\n",
       "           <td></td>             <th>coef</th>     <th>std err</th>      <th>t</th>      <th>P>|t|</th>  <th>[0.025</th>    <th>0.975]</th>  \n",
       "</tr>\n",
       "<tr>\n",
       "  <th>const</th>              <td>   -1.9945</td> <td>    0.267</td> <td>   -7.473</td> <td> 0.000</td> <td>   -2.518</td> <td>   -1.471</td>\n",
       "</tr>\n",
       "<tr>\n",
       "  <th>paid_principal</th>     <td>   -0.0054</td> <td>    0.000</td> <td>  -45.487</td> <td> 0.000</td> <td>   -0.006</td> <td>   -0.005</td>\n",
       "</tr>\n",
       "<tr>\n",
       "  <th>term</th>               <td>    0.3484</td> <td>    0.006</td> <td>   54.321</td> <td> 0.000</td> <td>    0.336</td> <td>    0.361</td>\n",
       "</tr>\n",
       "<tr>\n",
       "  <th>paid_total</th>         <td>    0.0054</td> <td>    0.000</td> <td>   45.631</td> <td> 0.000</td> <td>    0.005</td> <td>    0.006</td>\n",
       "</tr>\n",
       "<tr>\n",
       "  <th>total_debit_limit</th>  <td>-2.286e-05</td> <td> 1.51e-06</td> <td>  -15.132</td> <td> 0.000</td> <td>-2.58e-05</td> <td>-1.99e-05</td>\n",
       "</tr>\n",
       "<tr>\n",
       "  <th>loan_amount</th>        <td>   -0.0012</td> <td> 1.85e-05</td> <td>  -62.693</td> <td> 0.000</td> <td>   -0.001</td> <td>   -0.001</td>\n",
       "</tr>\n",
       "<tr>\n",
       "  <th>installment</th>        <td>    0.0320</td> <td>    0.001</td> <td>   49.053</td> <td> 0.000</td> <td>    0.031</td> <td>    0.033</td>\n",
       "</tr>\n",
       "<tr>\n",
       "  <th>debt_to_income</th>     <td>    0.0226</td> <td>    0.003</td> <td>    9.044</td> <td> 0.000</td> <td>    0.018</td> <td>    0.028</td>\n",
       "</tr>\n",
       "<tr>\n",
       "  <th>total_credit_limit</th> <td>-8.078e-07</td> <td> 2.15e-07</td> <td>   -3.760</td> <td> 0.000</td> <td>-1.23e-06</td> <td>-3.87e-07</td>\n",
       "</tr>\n",
       "</table>\n",
       "<table class=\"simpletable\">\n",
       "<tr>\n",
       "  <th>Omnibus:</th>       <td>1127.609</td> <th>  Durbin-Watson:     </th> <td>   1.995</td>\n",
       "</tr>\n",
       "<tr>\n",
       "  <th>Prob(Omnibus):</th>  <td> 0.000</td>  <th>  Jarque-Bera (JB):  </th> <td>1989.358</td>\n",
       "</tr>\n",
       "<tr>\n",
       "  <th>Skew:</th>           <td> 0.977</td>  <th>  Prob(JB):          </th> <td>    0.00</td>\n",
       "</tr>\n",
       "<tr>\n",
       "  <th>Kurtosis:</th>       <td> 4.597</td>  <th>  Cond. No.          </th> <td>2.00e+06</td>\n",
       "</tr>\n",
       "</table><br/><br/>Notes:<br/>[1] Standard Errors assume that the covariance matrix of the errors is correctly specified.<br/>[2] The condition number is large,  2e+06. This might indicate that there are<br/>strong multicollinearity or other numerical problems."
      ],
      "text/plain": [
       "<class 'statsmodels.iolib.summary.Summary'>\n",
       "\"\"\"\n",
       "                            OLS Regression Results                            \n",
       "==============================================================================\n",
       "Dep. Variable:          interest_rate   R-squared:                       0.645\n",
       "Model:                            OLS   Adj. R-squared:                  0.644\n",
       "Method:                 Least Squares   F-statistic:                     1698.\n",
       "Date:                Sun, 31 Oct 2021   Prob (F-statistic):               0.00\n",
       "Time:                        05:10:20   Log-Likelihood:                -18876.\n",
       "No. Observations:                7500   AIC:                         3.777e+04\n",
       "Df Residuals:                    7491   BIC:                         3.783e+04\n",
       "Df Model:                           8                                         \n",
       "Covariance Type:            nonrobust                                         \n",
       "======================================================================================\n",
       "                         coef    std err          t      P>|t|      [0.025      0.975]\n",
       "--------------------------------------------------------------------------------------\n",
       "const                 -1.9945      0.267     -7.473      0.000      -2.518      -1.471\n",
       "paid_principal        -0.0054      0.000    -45.487      0.000      -0.006      -0.005\n",
       "term                   0.3484      0.006     54.321      0.000       0.336       0.361\n",
       "paid_total             0.0054      0.000     45.631      0.000       0.005       0.006\n",
       "total_debit_limit  -2.286e-05   1.51e-06    -15.132      0.000   -2.58e-05   -1.99e-05\n",
       "loan_amount           -0.0012   1.85e-05    -62.693      0.000      -0.001      -0.001\n",
       "installment            0.0320      0.001     49.053      0.000       0.031       0.033\n",
       "debt_to_income         0.0226      0.003      9.044      0.000       0.018       0.028\n",
       "total_credit_limit -8.078e-07   2.15e-07     -3.760      0.000   -1.23e-06   -3.87e-07\n",
       "==============================================================================\n",
       "Omnibus:                     1127.609   Durbin-Watson:                   1.995\n",
       "Prob(Omnibus):                  0.000   Jarque-Bera (JB):             1989.358\n",
       "Skew:                           0.977   Prob(JB):                         0.00\n",
       "Kurtosis:                       4.597   Cond. No.                     2.00e+06\n",
       "==============================================================================\n",
       "\n",
       "Notes:\n",
       "[1] Standard Errors assume that the covariance matrix of the errors is correctly specified.\n",
       "[2] The condition number is large,  2e+06. This might indicate that there are\n",
       "strong multicollinearity or other numerical problems.\n",
       "\"\"\""
      ]
     },
     "execution_count": 92,
     "metadata": {},
     "output_type": "execute_result"
    }
   ],
   "source": [
    "train_x_4 = train_x_3.drop('paid_interest',axis=1)\n",
    "regression4 = sm.OLS(train_y,sm.add_constant(train_x_4))\n",
    "regression4.fit().summary()"
   ]
  },
  {
   "cell_type": "markdown",
   "id": "2823b49f",
   "metadata": {},
   "source": [
    "All the predict variables are statistically significant.\n",
    "\n",
    "Based on the model, we can see holding other variables unchanged, for 1 unit increase in paid principal, the interest rate will decrease -0.0054, while 1 unit increase of term, the interest rate will increase 0.3484, 1 unit increase of paid total, the interest rate will 0.0054, 1 unit increase of loan amount, the interest rate will decrease 0.0012, 1 unit increase of installment will increase interest rate for 0.032, 1 unit increase in debt to income ratio will increase interest rate for 0.0226. "
   ]
  },
  {
   "cell_type": "code",
   "execution_count": 93,
   "id": "6526b482",
   "metadata": {},
   "outputs": [],
   "source": [
    "test_y = data['interest_rate'].drop(data_train_index)\n",
    "test_x = data[['paid_principal','term','paid_total','total_debit_limit','loan_amount',\n",
    "              'installment','debt_to_income','total_credit_limit']].drop(data_train_index)"
   ]
  },
  {
   "cell_type": "code",
   "execution_count": 94,
   "id": "3041d184",
   "metadata": {},
   "outputs": [],
   "source": [
    "regression4_test_r2 = r2_score(regression4.fit().predict(sm.add_constant(test_x)),test_y)"
   ]
  },
  {
   "cell_type": "code",
   "execution_count": 95,
   "id": "b101c60d",
   "metadata": {},
   "outputs": [
    {
     "data": {
      "text/plain": [
       "0.4984098629766178"
      ]
     },
     "execution_count": 95,
     "metadata": {},
     "output_type": "execute_result"
    }
   ],
   "source": [
    "regression4_test_r2"
   ]
  },
  {
   "cell_type": "markdown",
   "id": "2b1c7eee",
   "metadata": {},
   "source": [
    "The model has 0.499 R squared score for the test dataset."
   ]
  },
  {
   "cell_type": "markdown",
   "id": "b5bf2f6f",
   "metadata": {},
   "source": [
    "For model enhancements, it maybe helpful to try some combinations of different \"ntrees\" and \"max_depth\" to better optimize the parameters of the randomforest regression model. It is also worth to transfer the categorical variables into dummy variables and apply into the linear regression models, to discover whether they are helpful to increase the model prediction accuracy. \n",
    "\n",
    "For future investigation, I propose that we can record people’s historical loan records over the time. Based on the change of a person’s interest rate overtime, we may can create a time series model, to predict his/her interest rate changes in the future. Combining with the changes of other variables (such as paid interest, paid principal, paid total) overtime, we may can discover a clearer picture of the relationship between these variables and better foresee a person’s loaning behavior."
   ]
  }
 ],
 "metadata": {
  "kernelspec": {
   "display_name": "Python 3",
   "language": "python",
   "name": "python3"
  },
  "language_info": {
   "codemirror_mode": {
    "name": "ipython",
    "version": 3
   },
   "file_extension": ".py",
   "mimetype": "text/x-python",
   "name": "python",
   "nbconvert_exporter": "python",
   "pygments_lexer": "ipython3",
   "version": "3.8.8"
  }
 },
 "nbformat": 4,
 "nbformat_minor": 5
}
